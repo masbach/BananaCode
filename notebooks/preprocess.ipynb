{
 "cells": [
  {
   "cell_type": "markdown",
   "metadata": {},
   "source": [
    "# Data Collection and Preperation"
   ]
  },
  {
   "cell_type": "code",
   "execution_count": 38,
   "metadata": {},
   "outputs": [],
   "source": [
    "import pandas as pd\n",
    "import numpy as np\n",
    "import matplotlib.pyplot as plt\n",
    "import seaborn as sns\n",
    "from datetime import datetime, timedelta, date, time\n",
    "import pickle"
   ]
  },
  {
   "cell_type": "markdown",
   "metadata": {},
   "source": [
    " ## Bikesharing Rentals Data"
   ]
  },
  {
   "cell_type": "markdown",
   "metadata": {},
   "source": [
    "The dataset contains data by Bikeshare Metro in Los Angeles of the year 2018. It contains the following variables: <br>\n",
    "<br>\n",
    "**start_time**: Day and time trip started [datetime]<br>\n",
    "**end_time**: Day and time trip ended [datetime]<br>\n",
    "**start_station_id**: Unique ID of station where trip originated [int]<br>\n",
    "**end_station_id**: Unique ID of station where trip terminated [int]<br>\n",
    "**bike_id**: Unique ID attached to each bike [int]<br>\n",
    "**user_type**: User membership type [str]<br>\n",
    "**start_station_name**: Name of station where trip originated [str]<br>\n",
    "**end_station_name**: Name of station where trip terminated [str]<br>"
   ]
  },
  {
   "cell_type": "markdown",
   "metadata": {},
   "source": [
    "### Import & Inspection before further Processing"
   ]
  },
  {
   "cell_type": "code",
   "execution_count": 39,
   "metadata": {},
   "outputs": [
    {
     "data": {
      "text/html": [
       "<div>\n",
       "<style scoped>\n",
       "    .dataframe tbody tr th:only-of-type {\n",
       "        vertical-align: middle;\n",
       "    }\n",
       "\n",
       "    .dataframe tbody tr th {\n",
       "        vertical-align: top;\n",
       "    }\n",
       "\n",
       "    .dataframe thead th {\n",
       "        text-align: right;\n",
       "    }\n",
       "</style>\n",
       "<table border=\"1\" class=\"dataframe\">\n",
       "  <thead>\n",
       "    <tr style=\"text-align: right;\">\n",
       "      <th></th>\n",
       "      <th>start_time</th>\n",
       "      <th>end_time</th>\n",
       "      <th>start_station_id</th>\n",
       "      <th>end_station_id</th>\n",
       "      <th>bike_id</th>\n",
       "      <th>user_type</th>\n",
       "      <th>start_station_name</th>\n",
       "      <th>end_station_name</th>\n",
       "    </tr>\n",
       "  </thead>\n",
       "  <tbody>\n",
       "    <tr>\n",
       "      <th>0</th>\n",
       "      <td>2018-01-01 00:04:00</td>\n",
       "      <td>2018-01-01 00:25:00</td>\n",
       "      <td>3063</td>\n",
       "      <td>3018</td>\n",
       "      <td>5889</td>\n",
       "      <td>Walk-up</td>\n",
       "      <td>Pershing Square</td>\n",
       "      <td>Grand &amp; Olympic</td>\n",
       "    </tr>\n",
       "    <tr>\n",
       "      <th>1</th>\n",
       "      <td>2018-01-01 00:05:00</td>\n",
       "      <td>2018-01-01 00:25:00</td>\n",
       "      <td>3063</td>\n",
       "      <td>3018</td>\n",
       "      <td>6311</td>\n",
       "      <td>Walk-up</td>\n",
       "      <td>Pershing Square</td>\n",
       "      <td>Grand &amp; Olympic</td>\n",
       "    </tr>\n",
       "    <tr>\n",
       "      <th>2</th>\n",
       "      <td>2018-01-01 00:06:00</td>\n",
       "      <td>2018-01-01 00:25:00</td>\n",
       "      <td>3063</td>\n",
       "      <td>3018</td>\n",
       "      <td>5753</td>\n",
       "      <td>Walk-up</td>\n",
       "      <td>Pershing Square</td>\n",
       "      <td>Grand &amp; Olympic</td>\n",
       "    </tr>\n",
       "    <tr>\n",
       "      <th>3</th>\n",
       "      <td>2018-01-01 00:13:00</td>\n",
       "      <td>2018-01-01 00:35:00</td>\n",
       "      <td>3018</td>\n",
       "      <td>3031</td>\n",
       "      <td>6220</td>\n",
       "      <td>Monthly Pass</td>\n",
       "      <td>Grand &amp; Olympic</td>\n",
       "      <td>7th &amp; Spring</td>\n",
       "    </tr>\n",
       "    <tr>\n",
       "      <th>4</th>\n",
       "      <td>2018-01-01 00:14:00</td>\n",
       "      <td>2018-01-01 00:59:00</td>\n",
       "      <td>4204</td>\n",
       "      <td>4216</td>\n",
       "      <td>12436</td>\n",
       "      <td>Monthly Pass</td>\n",
       "      <td>Washington &amp; Abbot Kinney</td>\n",
       "      <td>17th St / SMC E Line Station</td>\n",
       "    </tr>\n",
       "    <tr>\n",
       "      <th>...</th>\n",
       "      <td>...</td>\n",
       "      <td>...</td>\n",
       "      <td>...</td>\n",
       "      <td>...</td>\n",
       "      <td>...</td>\n",
       "      <td>...</td>\n",
       "      <td>...</td>\n",
       "      <td>...</td>\n",
       "    </tr>\n",
       "    <tr>\n",
       "      <th>311889</th>\n",
       "      <td>2018-12-31 23:46:00</td>\n",
       "      <td>2018-12-31 23:55:00</td>\n",
       "      <td>3069</td>\n",
       "      <td>3069</td>\n",
       "      <td>6222</td>\n",
       "      <td>Walk-up</td>\n",
       "      <td>Broadway &amp; 3rd</td>\n",
       "      <td>Broadway &amp; 3rd</td>\n",
       "    </tr>\n",
       "    <tr>\n",
       "      <th>311890</th>\n",
       "      <td>2018-12-31 23:47:00</td>\n",
       "      <td>2018-12-31 23:54:00</td>\n",
       "      <td>3069</td>\n",
       "      <td>3069</td>\n",
       "      <td>5730</td>\n",
       "      <td>Walk-up</td>\n",
       "      <td>Broadway &amp; 3rd</td>\n",
       "      <td>Broadway &amp; 3rd</td>\n",
       "    </tr>\n",
       "    <tr>\n",
       "      <th>311891</th>\n",
       "      <td>2018-12-31 23:51:00</td>\n",
       "      <td>2019-01-01 01:28:00</td>\n",
       "      <td>4211</td>\n",
       "      <td>4210</td>\n",
       "      <td>12347</td>\n",
       "      <td>Walk-up</td>\n",
       "      <td>Pacific &amp; North Venice</td>\n",
       "      <td>Ocean Front Walk &amp; North Venice</td>\n",
       "    </tr>\n",
       "    <tr>\n",
       "      <th>311892</th>\n",
       "      <td>2018-12-31 23:54:00</td>\n",
       "      <td>2019-01-01 00:22:00</td>\n",
       "      <td>3005</td>\n",
       "      <td>3082</td>\n",
       "      <td>12128</td>\n",
       "      <td>Walk-up</td>\n",
       "      <td>7th &amp; Flower</td>\n",
       "      <td>Traction &amp; Rose</td>\n",
       "    </tr>\n",
       "    <tr>\n",
       "      <th>311893</th>\n",
       "      <td>2018-12-31 23:56:00</td>\n",
       "      <td>2019-01-01 00:22:00</td>\n",
       "      <td>3005</td>\n",
       "      <td>3082</td>\n",
       "      <td>12017</td>\n",
       "      <td>Walk-up</td>\n",
       "      <td>7th &amp; Flower</td>\n",
       "      <td>Traction &amp; Rose</td>\n",
       "    </tr>\n",
       "  </tbody>\n",
       "</table>\n",
       "<p>311894 rows × 8 columns</p>\n",
       "</div>"
      ],
      "text/plain": [
       "                 start_time             end_time  start_station_id  \\\n",
       "0       2018-01-01 00:04:00  2018-01-01 00:25:00              3063   \n",
       "1       2018-01-01 00:05:00  2018-01-01 00:25:00              3063   \n",
       "2       2018-01-01 00:06:00  2018-01-01 00:25:00              3063   \n",
       "3       2018-01-01 00:13:00  2018-01-01 00:35:00              3018   \n",
       "4       2018-01-01 00:14:00  2018-01-01 00:59:00              4204   \n",
       "...                     ...                  ...               ...   \n",
       "311889  2018-12-31 23:46:00  2018-12-31 23:55:00              3069   \n",
       "311890  2018-12-31 23:47:00  2018-12-31 23:54:00              3069   \n",
       "311891  2018-12-31 23:51:00  2019-01-01 01:28:00              4211   \n",
       "311892  2018-12-31 23:54:00  2019-01-01 00:22:00              3005   \n",
       "311893  2018-12-31 23:56:00  2019-01-01 00:22:00              3005   \n",
       "\n",
       "        end_station_id  bike_id     user_type         start_station_name  \\\n",
       "0                 3018     5889       Walk-up            Pershing Square   \n",
       "1                 3018     6311       Walk-up            Pershing Square   \n",
       "2                 3018     5753       Walk-up            Pershing Square   \n",
       "3                 3031     6220  Monthly Pass            Grand & Olympic   \n",
       "4                 4216    12436  Monthly Pass  Washington & Abbot Kinney   \n",
       "...                ...      ...           ...                        ...   \n",
       "311889            3069     6222       Walk-up             Broadway & 3rd   \n",
       "311890            3069     5730       Walk-up             Broadway & 3rd   \n",
       "311891            4210    12347       Walk-up     Pacific & North Venice   \n",
       "311892            3082    12128       Walk-up               7th & Flower   \n",
       "311893            3082    12017       Walk-up               7th & Flower   \n",
       "\n",
       "                       end_station_name  \n",
       "0                       Grand & Olympic  \n",
       "1                       Grand & Olympic  \n",
       "2                       Grand & Olympic  \n",
       "3                          7th & Spring  \n",
       "4          17th St / SMC E Line Station  \n",
       "...                                 ...  \n",
       "311889                   Broadway & 3rd  \n",
       "311890                   Broadway & 3rd  \n",
       "311891  Ocean Front Walk & North Venice  \n",
       "311892                  Traction & Rose  \n",
       "311893                  Traction & Rose  \n",
       "\n",
       "[311894 rows x 8 columns]"
      ]
     },
     "execution_count": 39,
     "metadata": {},
     "output_type": "execute_result"
    }
   ],
   "source": [
    "df_LA = pd.read_csv('../data/LosAngeles/la_2018.csv') \n",
    "\n",
    "df_LA"
   ]
  },
  {
   "cell_type": "code",
   "execution_count": 40,
   "metadata": {},
   "outputs": [
    {
     "name": "stdout",
     "output_type": "stream",
     "text": [
      "<class 'pandas.core.frame.DataFrame'>\n",
      "RangeIndex: 311894 entries, 0 to 311893\n",
      "Data columns (total 8 columns):\n",
      " #   Column              Non-Null Count   Dtype \n",
      "---  ------              --------------   ----- \n",
      " 0   start_time          311894 non-null  object\n",
      " 1   end_time            311894 non-null  object\n",
      " 2   start_station_id    311894 non-null  int64 \n",
      " 3   end_station_id      311894 non-null  int64 \n",
      " 4   bike_id             311894 non-null  int64 \n",
      " 5   user_type           311894 non-null  object\n",
      " 6   start_station_name  311894 non-null  object\n",
      " 7   end_station_name    311894 non-null  object\n",
      "dtypes: int64(3), object(5)\n",
      "memory usage: 19.0+ MB\n"
     ]
    }
   ],
   "source": [
    "df_LA.info()"
   ]
  },
  {
   "cell_type": "markdown",
   "metadata": {},
   "source": [
    "## Preperation"
   ]
  },
  {
   "cell_type": "markdown",
   "metadata": {},
   "source": [
    "### Duplicates"
   ]
  },
  {
   "cell_type": "code",
   "execution_count": 41,
   "metadata": {},
   "outputs": [
    {
     "data": {
      "text/html": [
       "<div>\n",
       "<style scoped>\n",
       "    .dataframe tbody tr th:only-of-type {\n",
       "        vertical-align: middle;\n",
       "    }\n",
       "\n",
       "    .dataframe tbody tr th {\n",
       "        vertical-align: top;\n",
       "    }\n",
       "\n",
       "    .dataframe thead th {\n",
       "        text-align: right;\n",
       "    }\n",
       "</style>\n",
       "<table border=\"1\" class=\"dataframe\">\n",
       "  <thead>\n",
       "    <tr style=\"text-align: right;\">\n",
       "      <th></th>\n",
       "      <th>start_time</th>\n",
       "      <th>end_time</th>\n",
       "      <th>start_station_id</th>\n",
       "      <th>end_station_id</th>\n",
       "      <th>bike_id</th>\n",
       "      <th>user_type</th>\n",
       "      <th>start_station_name</th>\n",
       "      <th>end_station_name</th>\n",
       "    </tr>\n",
       "  </thead>\n",
       "  <tbody>\n",
       "    <tr>\n",
       "      <th>12598</th>\n",
       "      <td>2018-01-19 13:48:00</td>\n",
       "      <td>2018-01-19 13:56:00</td>\n",
       "      <td>4213</td>\n",
       "      <td>4207</td>\n",
       "      <td>11972</td>\n",
       "      <td>Walk-up</td>\n",
       "      <td>7th &amp; Westminster</td>\n",
       "      <td>Rose &amp; 7th</td>\n",
       "    </tr>\n",
       "    <tr>\n",
       "      <th>12599</th>\n",
       "      <td>2018-01-19 13:48:00</td>\n",
       "      <td>2018-01-19 13:56:00</td>\n",
       "      <td>4213</td>\n",
       "      <td>4207</td>\n",
       "      <td>11972</td>\n",
       "      <td>Walk-up</td>\n",
       "      <td>7th &amp; Westminster</td>\n",
       "      <td>Rose &amp; 7th</td>\n",
       "    </tr>\n",
       "    <tr>\n",
       "      <th>12969</th>\n",
       "      <td>2018-01-20 00:11:00</td>\n",
       "      <td>2018-01-20 00:35:00</td>\n",
       "      <td>4213</td>\n",
       "      <td>4214</td>\n",
       "      <td>12048</td>\n",
       "      <td>Monthly Pass</td>\n",
       "      <td>7th &amp; Westminster</td>\n",
       "      <td>Ocean Front Walk &amp; Navy</td>\n",
       "    </tr>\n",
       "    <tr>\n",
       "      <th>12971</th>\n",
       "      <td>2018-01-20 00:11:00</td>\n",
       "      <td>2018-01-20 00:35:00</td>\n",
       "      <td>4213</td>\n",
       "      <td>4214</td>\n",
       "      <td>12048</td>\n",
       "      <td>Monthly Pass</td>\n",
       "      <td>7th &amp; Westminster</td>\n",
       "      <td>Ocean Front Walk &amp; Navy</td>\n",
       "    </tr>\n",
       "    <tr>\n",
       "      <th>12973</th>\n",
       "      <td>2018-01-20 00:18:00</td>\n",
       "      <td>2018-01-20 00:35:00</td>\n",
       "      <td>4213</td>\n",
       "      <td>4214</td>\n",
       "      <td>6589</td>\n",
       "      <td>Monthly Pass</td>\n",
       "      <td>7th &amp; Westminster</td>\n",
       "      <td>Ocean Front Walk &amp; Navy</td>\n",
       "    </tr>\n",
       "    <tr>\n",
       "      <th>...</th>\n",
       "      <td>...</td>\n",
       "      <td>...</td>\n",
       "      <td>...</td>\n",
       "      <td>...</td>\n",
       "      <td>...</td>\n",
       "      <td>...</td>\n",
       "      <td>...</td>\n",
       "      <td>...</td>\n",
       "    </tr>\n",
       "    <tr>\n",
       "      <th>194343</th>\n",
       "      <td>2018-08-20 05:23:00</td>\n",
       "      <td>2018-08-20 05:43:00</td>\n",
       "      <td>3014</td>\n",
       "      <td>3014</td>\n",
       "      <td>6312</td>\n",
       "      <td>Monthly Pass</td>\n",
       "      <td>Union Station West Portal</td>\n",
       "      <td>Union Station West Portal</td>\n",
       "    </tr>\n",
       "    <tr>\n",
       "      <th>198264</th>\n",
       "      <td>2018-08-23 23:36:00</td>\n",
       "      <td>2018-08-23 23:56:00</td>\n",
       "      <td>3038</td>\n",
       "      <td>3038</td>\n",
       "      <td>11980</td>\n",
       "      <td>Monthly Pass</td>\n",
       "      <td>Main &amp; 5th</td>\n",
       "      <td>Main &amp; 5th</td>\n",
       "    </tr>\n",
       "    <tr>\n",
       "      <th>198265</th>\n",
       "      <td>2018-08-23 23:36:00</td>\n",
       "      <td>2018-08-23 23:56:00</td>\n",
       "      <td>3038</td>\n",
       "      <td>3038</td>\n",
       "      <td>11980</td>\n",
       "      <td>Monthly Pass</td>\n",
       "      <td>Main &amp; 5th</td>\n",
       "      <td>Main &amp; 5th</td>\n",
       "    </tr>\n",
       "    <tr>\n",
       "      <th>242951</th>\n",
       "      <td>2018-10-05 16:23:00</td>\n",
       "      <td>2018-10-06 16:42:00</td>\n",
       "      <td>3038</td>\n",
       "      <td>3000</td>\n",
       "      <td>12370</td>\n",
       "      <td>Monthly Pass</td>\n",
       "      <td>Main &amp; 5th</td>\n",
       "      <td>Virtual Station</td>\n",
       "    </tr>\n",
       "    <tr>\n",
       "      <th>242952</th>\n",
       "      <td>2018-10-05 16:23:00</td>\n",
       "      <td>2018-10-06 16:42:00</td>\n",
       "      <td>3038</td>\n",
       "      <td>3000</td>\n",
       "      <td>12370</td>\n",
       "      <td>Monthly Pass</td>\n",
       "      <td>Main &amp; 5th</td>\n",
       "      <td>Virtual Station</td>\n",
       "    </tr>\n",
       "  </tbody>\n",
       "</table>\n",
       "<p>84 rows × 8 columns</p>\n",
       "</div>"
      ],
      "text/plain": [
       "                 start_time             end_time  start_station_id  \\\n",
       "12598   2018-01-19 13:48:00  2018-01-19 13:56:00              4213   \n",
       "12599   2018-01-19 13:48:00  2018-01-19 13:56:00              4213   \n",
       "12969   2018-01-20 00:11:00  2018-01-20 00:35:00              4213   \n",
       "12971   2018-01-20 00:11:00  2018-01-20 00:35:00              4213   \n",
       "12973   2018-01-20 00:18:00  2018-01-20 00:35:00              4213   \n",
       "...                     ...                  ...               ...   \n",
       "194343  2018-08-20 05:23:00  2018-08-20 05:43:00              3014   \n",
       "198264  2018-08-23 23:36:00  2018-08-23 23:56:00              3038   \n",
       "198265  2018-08-23 23:36:00  2018-08-23 23:56:00              3038   \n",
       "242951  2018-10-05 16:23:00  2018-10-06 16:42:00              3038   \n",
       "242952  2018-10-05 16:23:00  2018-10-06 16:42:00              3038   \n",
       "\n",
       "        end_station_id  bike_id     user_type         start_station_name  \\\n",
       "12598             4207    11972       Walk-up          7th & Westminster   \n",
       "12599             4207    11972       Walk-up          7th & Westminster   \n",
       "12969             4214    12048  Monthly Pass          7th & Westminster   \n",
       "12971             4214    12048  Monthly Pass          7th & Westminster   \n",
       "12973             4214     6589  Monthly Pass          7th & Westminster   \n",
       "...                ...      ...           ...                        ...   \n",
       "194343            3014     6312  Monthly Pass  Union Station West Portal   \n",
       "198264            3038    11980  Monthly Pass                 Main & 5th   \n",
       "198265            3038    11980  Monthly Pass                 Main & 5th   \n",
       "242951            3000    12370  Monthly Pass                 Main & 5th   \n",
       "242952            3000    12370  Monthly Pass                 Main & 5th   \n",
       "\n",
       "                 end_station_name  \n",
       "12598                  Rose & 7th  \n",
       "12599                  Rose & 7th  \n",
       "12969     Ocean Front Walk & Navy  \n",
       "12971     Ocean Front Walk & Navy  \n",
       "12973     Ocean Front Walk & Navy  \n",
       "...                           ...  \n",
       "194343  Union Station West Portal  \n",
       "198264                 Main & 5th  \n",
       "198265                 Main & 5th  \n",
       "242951            Virtual Station  \n",
       "242952            Virtual Station  \n",
       "\n",
       "[84 rows x 8 columns]"
      ]
     },
     "execution_count": 41,
     "metadata": {},
     "output_type": "execute_result"
    }
   ],
   "source": [
    "df_LA[df_LA.duplicated(keep=False)]"
   ]
  },
  {
   "cell_type": "markdown",
   "metadata": {},
   "source": [
    "First we delete all the duplicates by only keeping the last entry."
   ]
  },
  {
   "cell_type": "code",
   "execution_count": 42,
   "metadata": {
    "scrolled": true
   },
   "outputs": [],
   "source": [
    "#drop duplicates and keep the last\n",
    "df_LA = df_LA.drop_duplicates(keep='last')"
   ]
  },
  {
   "cell_type": "markdown",
   "metadata": {},
   "source": [
    "We now have 311852 entries after removing 42 entries."
   ]
  },
  {
   "cell_type": "code",
   "execution_count": 43,
   "metadata": {
    "scrolled": true
   },
   "outputs": [
    {
     "name": "stdout",
     "output_type": "stream",
     "text": [
      "<class 'pandas.core.frame.DataFrame'>\n",
      "Int64Index: 311852 entries, 0 to 311893\n",
      "Data columns (total 8 columns):\n",
      " #   Column              Non-Null Count   Dtype \n",
      "---  ------              --------------   ----- \n",
      " 0   start_time          311852 non-null  object\n",
      " 1   end_time            311852 non-null  object\n",
      " 2   start_station_id    311852 non-null  int64 \n",
      " 3   end_station_id      311852 non-null  int64 \n",
      " 4   bike_id             311852 non-null  int64 \n",
      " 5   user_type           311852 non-null  object\n",
      " 6   start_station_name  311852 non-null  object\n",
      " 7   end_station_name    311852 non-null  object\n",
      "dtypes: int64(3), object(5)\n",
      "memory usage: 21.4+ MB\n"
     ]
    }
   ],
   "source": [
    "df_LA.info()"
   ]
  },
  {
   "cell_type": "markdown",
   "metadata": {},
   "source": [
    "#### Only one Station ID for every Station Name"
   ]
  },
  {
   "cell_type": "markdown",
   "metadata": {},
   "source": [
    "We want to ensure that every station_name is reffered to only one station_id and vice versa."
   ]
  },
  {
   "cell_type": "code",
   "execution_count": 44,
   "metadata": {},
   "outputs": [
    {
     "name": "stdout",
     "output_type": "stream",
     "text": [
      "     start_station_id  start_station_name\n",
      "0                3000                   1\n",
      "1                3005                   1\n",
      "2                3006                   1\n",
      "3                3007                   1\n",
      "4                3008                   1\n",
      "..                ...                 ...\n",
      "127              4266                   1\n",
      "128              4267                   1\n",
      "129              4273                   1\n",
      "130              4275                   1\n",
      "131              4276                   1\n",
      "\n",
      "[132 rows x 2 columns]\n",
      "               start_station_name  start_station_id\n",
      "0                    11th & Maple                 1\n",
      "1                     12th & Hill                 1\n",
      "2    17th St / SMC E Line Station                 1\n",
      "3                 18th & Figueroa                 1\n",
      "4                18th & San Pedro                 1\n",
      "..                            ...               ...\n",
      "127        Waterfront Park (East)                 1\n",
      "128        Waterfront Park (West)                 1\n",
      "129          Willow St & Mateo St                 1\n",
      "130             Wilshire & Witmer                 1\n",
      "131               Windward & Main                 1\n",
      "\n",
      "[132 rows x 2 columns]\n"
     ]
    }
   ],
   "source": [
    "df_id = df_LA.sort_values(by=['bike_id','start_time'], ascending=True)\n",
    "\n",
    "df_unique_id = df_id.groupby('start_station_id')['start_station_name'].nunique().reset_index()\n",
    "df_unique_name = df_id.groupby('start_station_name')['start_station_id'].nunique().reset_index()\n",
    "\n",
    "print(df_unique_id)\n",
    "print(df_unique_name)"
   ]
  },
  {
   "cell_type": "code",
   "execution_count": 69,
   "metadata": {},
   "outputs": [
    {
     "name": "stdout",
     "output_type": "stream",
     "text": [
      "hier text einfügen 1\n",
      "hier text einfügen 1\n"
     ]
    }
   ],
   "source": [
    "print(\"hier text einfügen\", str(df_unique_id.start_station_name.max()))\n",
    "print(\"hier text einfügen\", str(df_unique_name.start_station_id.max()))"
   ]
  },
  {
   "cell_type": "markdown",
   "metadata": {},
   "source": [
    "We see that both printed values are \"1\". This implies, that there is only one station_id for every station_name and vice versa."
   ]
  },
  {
   "cell_type": "markdown",
   "metadata": {},
   "source": [
    "### Start Time, End Time and Trip Duration"
   ]
  },
  {
   "cell_type": "markdown",
   "metadata": {},
   "source": [
    "Transforming the datetime into the right format."
   ]
  },
  {
   "cell_type": "code",
   "execution_count": 71,
   "metadata": {},
   "outputs": [],
   "source": [
    "#transform columns start_time and end_time into datetime\n",
    "df_LA['start_time'] = pd.to_datetime(df_LA['start_time'])\n",
    "df_LA['end_time'] = pd.to_datetime(df_LA['end_time'])"
   ]
  },
  {
   "cell_type": "markdown",
   "metadata": {},
   "source": [
    "Adding a new column \"trip_duration\" by subtracting the \"end_time\" from the \"start_time\" for later analysis."
   ]
  },
  {
   "cell_type": "code",
   "execution_count": 47,
   "metadata": {},
   "outputs": [
    {
     "name": "stderr",
     "output_type": "stream",
     "text": [
      "<ipython-input-47-8c4d486ab0e0>:5: SettingWithCopyWarning: \n",
      "A value is trying to be set on a copy of a slice from a DataFrame.\n",
      "Try using .loc[row_indexer,col_indexer] = value instead\n",
      "\n",
      "See the caveats in the documentation: https://pandas.pydata.org/pandas-docs/stable/user_guide/indexing.html#returning-a-view-versus-a-copy\n",
      "  df_LA['trip_duration'] = df_LA.apply(lambda x: x['end_time'] - x['start_time'], axis=1) / pd.Timedelta(hours=1)\n"
     ]
    }
   ],
   "source": [
    "# calculate the total trip duration in hours\n",
    "#df_LA['trip_duration'] = df_LA['end_time'] - df_LA['start_time']\n",
    "\n",
    "# calculate the total trip duration in hours\n",
    "df_LA['trip_duration'] = df_LA.apply(lambda x: x['end_time'] - x['start_time'], axis=1) / pd.Timedelta(hours=1)\n",
    "#df['trip_duration'] = df['end_time'] - df['start_time']\n"
   ]
  },
  {
   "cell_type": "markdown",
   "metadata": {},
   "source": [
    "The new column \"trip_duration\" is now visible an contains the trip duration calculated from start_time and end_time."
   ]
  },
  {
   "cell_type": "code",
   "execution_count": 48,
   "metadata": {},
   "outputs": [
    {
     "name": "stdout",
     "output_type": "stream",
     "text": [
      "<class 'pandas.core.frame.DataFrame'>\n",
      "Int64Index: 311852 entries, 0 to 311893\n",
      "Data columns (total 9 columns):\n",
      " #   Column              Non-Null Count   Dtype         \n",
      "---  ------              --------------   -----         \n",
      " 0   start_time          311852 non-null  datetime64[ns]\n",
      " 1   end_time            311852 non-null  datetime64[ns]\n",
      " 2   start_station_id    311852 non-null  int64         \n",
      " 3   end_station_id      311852 non-null  int64         \n",
      " 4   bike_id             311852 non-null  int64         \n",
      " 5   user_type           311852 non-null  object        \n",
      " 6   start_station_name  311852 non-null  object        \n",
      " 7   end_station_name    311852 non-null  object        \n",
      " 8   trip_duration       311852 non-null  float64       \n",
      "dtypes: datetime64[ns](2), float64(1), int64(3), object(3)\n",
      "memory usage: 23.8+ MB\n"
     ]
    }
   ],
   "source": [
    "df_LA.info()"
   ]
  },
  {
   "cell_type": "code",
   "execution_count": 49,
   "metadata": {
    "scrolled": false
   },
   "outputs": [
    {
     "data": {
      "text/html": [
       "<div>\n",
       "<style scoped>\n",
       "    .dataframe tbody tr th:only-of-type {\n",
       "        vertical-align: middle;\n",
       "    }\n",
       "\n",
       "    .dataframe tbody tr th {\n",
       "        vertical-align: top;\n",
       "    }\n",
       "\n",
       "    .dataframe thead th {\n",
       "        text-align: right;\n",
       "    }\n",
       "</style>\n",
       "<table border=\"1\" class=\"dataframe\">\n",
       "  <thead>\n",
       "    <tr style=\"text-align: right;\">\n",
       "      <th></th>\n",
       "      <th>start_time</th>\n",
       "      <th>end_time</th>\n",
       "      <th>start_station_id</th>\n",
       "      <th>end_station_id</th>\n",
       "      <th>bike_id</th>\n",
       "      <th>user_type</th>\n",
       "      <th>start_station_name</th>\n",
       "      <th>end_station_name</th>\n",
       "      <th>trip_duration</th>\n",
       "    </tr>\n",
       "  </thead>\n",
       "  <tbody>\n",
       "    <tr>\n",
       "      <th>0</th>\n",
       "      <td>2018-01-01 00:04:00</td>\n",
       "      <td>2018-01-01 00:25:00</td>\n",
       "      <td>3063</td>\n",
       "      <td>3018</td>\n",
       "      <td>5889</td>\n",
       "      <td>Walk-up</td>\n",
       "      <td>Pershing Square</td>\n",
       "      <td>Grand &amp; Olympic</td>\n",
       "      <td>0.350000</td>\n",
       "    </tr>\n",
       "    <tr>\n",
       "      <th>1</th>\n",
       "      <td>2018-01-01 00:05:00</td>\n",
       "      <td>2018-01-01 00:25:00</td>\n",
       "      <td>3063</td>\n",
       "      <td>3018</td>\n",
       "      <td>6311</td>\n",
       "      <td>Walk-up</td>\n",
       "      <td>Pershing Square</td>\n",
       "      <td>Grand &amp; Olympic</td>\n",
       "      <td>0.333333</td>\n",
       "    </tr>\n",
       "    <tr>\n",
       "      <th>2</th>\n",
       "      <td>2018-01-01 00:06:00</td>\n",
       "      <td>2018-01-01 00:25:00</td>\n",
       "      <td>3063</td>\n",
       "      <td>3018</td>\n",
       "      <td>5753</td>\n",
       "      <td>Walk-up</td>\n",
       "      <td>Pershing Square</td>\n",
       "      <td>Grand &amp; Olympic</td>\n",
       "      <td>0.316667</td>\n",
       "    </tr>\n",
       "    <tr>\n",
       "      <th>3</th>\n",
       "      <td>2018-01-01 00:13:00</td>\n",
       "      <td>2018-01-01 00:35:00</td>\n",
       "      <td>3018</td>\n",
       "      <td>3031</td>\n",
       "      <td>6220</td>\n",
       "      <td>Monthly Pass</td>\n",
       "      <td>Grand &amp; Olympic</td>\n",
       "      <td>7th &amp; Spring</td>\n",
       "      <td>0.366667</td>\n",
       "    </tr>\n",
       "    <tr>\n",
       "      <th>4</th>\n",
       "      <td>2018-01-01 00:14:00</td>\n",
       "      <td>2018-01-01 00:59:00</td>\n",
       "      <td>4204</td>\n",
       "      <td>4216</td>\n",
       "      <td>12436</td>\n",
       "      <td>Monthly Pass</td>\n",
       "      <td>Washington &amp; Abbot Kinney</td>\n",
       "      <td>17th St / SMC E Line Station</td>\n",
       "      <td>0.750000</td>\n",
       "    </tr>\n",
       "  </tbody>\n",
       "</table>\n",
       "</div>"
      ],
      "text/plain": [
       "           start_time            end_time  start_station_id  end_station_id  \\\n",
       "0 2018-01-01 00:04:00 2018-01-01 00:25:00              3063            3018   \n",
       "1 2018-01-01 00:05:00 2018-01-01 00:25:00              3063            3018   \n",
       "2 2018-01-01 00:06:00 2018-01-01 00:25:00              3063            3018   \n",
       "3 2018-01-01 00:13:00 2018-01-01 00:35:00              3018            3031   \n",
       "4 2018-01-01 00:14:00 2018-01-01 00:59:00              4204            4216   \n",
       "\n",
       "   bike_id     user_type         start_station_name  \\\n",
       "0     5889       Walk-up            Pershing Square   \n",
       "1     6311       Walk-up            Pershing Square   \n",
       "2     5753       Walk-up            Pershing Square   \n",
       "3     6220  Monthly Pass            Grand & Olympic   \n",
       "4    12436  Monthly Pass  Washington & Abbot Kinney   \n",
       "\n",
       "               end_station_name  trip_duration  \n",
       "0               Grand & Olympic       0.350000  \n",
       "1               Grand & Olympic       0.333333  \n",
       "2               Grand & Olympic       0.316667  \n",
       "3                  7th & Spring       0.366667  \n",
       "4  17th St / SMC E Line Station       0.750000  "
      ]
     },
     "execution_count": 49,
     "metadata": {},
     "output_type": "execute_result"
    }
   ],
   "source": [
    "df_LA.head(5)"
   ]
  },
  {
   "cell_type": "markdown",
   "metadata": {},
   "source": [
    "#### Trip Duration Outliers"
   ]
  },
  {
   "cell_type": "markdown",
   "metadata": {},
   "source": [
    "In order to sort out possible incorrect trip data or trips where the user has forgotten to return the bike, for example, we take a closer look at the trip lengths."
   ]
  },
  {
   "cell_type": "code",
   "execution_count": 57,
   "metadata": {
    "scrolled": true
   },
   "outputs": [
    {
     "data": {
      "text/html": [
       "<div>\n",
       "<style scoped>\n",
       "    .dataframe tbody tr th:only-of-type {\n",
       "        vertical-align: middle;\n",
       "    }\n",
       "\n",
       "    .dataframe tbody tr th {\n",
       "        vertical-align: top;\n",
       "    }\n",
       "\n",
       "    .dataframe thead th {\n",
       "        text-align: right;\n",
       "    }\n",
       "</style>\n",
       "<table border=\"1\" class=\"dataframe\">\n",
       "  <thead>\n",
       "    <tr style=\"text-align: right;\">\n",
       "      <th></th>\n",
       "      <th>start_time</th>\n",
       "      <th>end_time</th>\n",
       "      <th>start_station_id</th>\n",
       "      <th>end_station_id</th>\n",
       "      <th>bike_id</th>\n",
       "      <th>user_type</th>\n",
       "      <th>start_station_name</th>\n",
       "      <th>end_station_name</th>\n",
       "      <th>trip_duration</th>\n",
       "    </tr>\n",
       "  </thead>\n",
       "  <tbody>\n",
       "    <tr>\n",
       "      <th>306166</th>\n",
       "      <td>2018-12-22 14:20:00</td>\n",
       "      <td>2018-12-28 17:49:00</td>\n",
       "      <td>3033</td>\n",
       "      <td>3000</td>\n",
       "      <td>6134</td>\n",
       "      <td>Walk-up</td>\n",
       "      <td>Main &amp; 9th</td>\n",
       "      <td>Virtual Station</td>\n",
       "      <td>147.483333</td>\n",
       "    </tr>\n",
       "    <tr>\n",
       "      <th>129398</th>\n",
       "      <td>2018-06-15 14:17:00</td>\n",
       "      <td>2018-06-21 14:55:00</td>\n",
       "      <td>3068</td>\n",
       "      <td>3048</td>\n",
       "      <td>12452</td>\n",
       "      <td>Walk-up</td>\n",
       "      <td>Grand &amp; 3rd</td>\n",
       "      <td>5th &amp; Hewitt</td>\n",
       "      <td>144.633333</td>\n",
       "    </tr>\n",
       "    <tr>\n",
       "      <th>61758</th>\n",
       "      <td>2018-03-27 18:12:00</td>\n",
       "      <td>2018-04-02 15:59:00</td>\n",
       "      <td>4162</td>\n",
       "      <td>3000</td>\n",
       "      <td>6248</td>\n",
       "      <td>Monthly Pass</td>\n",
       "      <td>Memorial Park Station</td>\n",
       "      <td>Virtual Station</td>\n",
       "      <td>141.783333</td>\n",
       "    </tr>\n",
       "    <tr>\n",
       "      <th>244953</th>\n",
       "      <td>2018-10-07 16:14:00</td>\n",
       "      <td>2018-10-13 10:13:00</td>\n",
       "      <td>4210</td>\n",
       "      <td>3000</td>\n",
       "      <td>6265</td>\n",
       "      <td>Walk-up</td>\n",
       "      <td>Ocean Front Walk &amp; North Venice</td>\n",
       "      <td>Virtual Station</td>\n",
       "      <td>137.983333</td>\n",
       "    </tr>\n",
       "    <tr>\n",
       "      <th>306480</th>\n",
       "      <td>2018-12-23 02:51:00</td>\n",
       "      <td>2018-12-28 17:41:00</td>\n",
       "      <td>4204</td>\n",
       "      <td>3000</td>\n",
       "      <td>5917</td>\n",
       "      <td>Walk-up</td>\n",
       "      <td>Washington &amp; Abbot Kinney</td>\n",
       "      <td>Virtual Station</td>\n",
       "      <td>134.833333</td>\n",
       "    </tr>\n",
       "  </tbody>\n",
       "</table>\n",
       "</div>"
      ],
      "text/plain": [
       "                start_time            end_time  start_station_id  \\\n",
       "306166 2018-12-22 14:20:00 2018-12-28 17:49:00              3033   \n",
       "129398 2018-06-15 14:17:00 2018-06-21 14:55:00              3068   \n",
       "61758  2018-03-27 18:12:00 2018-04-02 15:59:00              4162   \n",
       "244953 2018-10-07 16:14:00 2018-10-13 10:13:00              4210   \n",
       "306480 2018-12-23 02:51:00 2018-12-28 17:41:00              4204   \n",
       "\n",
       "        end_station_id  bike_id     user_type  \\\n",
       "306166            3000     6134       Walk-up   \n",
       "129398            3048    12452       Walk-up   \n",
       "61758             3000     6248  Monthly Pass   \n",
       "244953            3000     6265       Walk-up   \n",
       "306480            3000     5917       Walk-up   \n",
       "\n",
       "                     start_station_name end_station_name  trip_duration  \n",
       "306166                       Main & 9th  Virtual Station     147.483333  \n",
       "129398                      Grand & 3rd     5th & Hewitt     144.633333  \n",
       "61758             Memorial Park Station  Virtual Station     141.783333  \n",
       "244953  Ocean Front Walk & North Venice  Virtual Station     137.983333  \n",
       "306480        Washington & Abbot Kinney  Virtual Station     134.833333  "
      ]
     },
     "execution_count": 57,
     "metadata": {},
     "output_type": "execute_result"
    }
   ],
   "source": [
    "df_LA.sort_values(by=[\"trip_duration\"], ascending=False).head(5)"
   ]
  },
  {
   "cell_type": "code",
   "execution_count": 50,
   "metadata": {},
   "outputs": [
    {
     "data": {
      "image/png": "[encoded data removed]",
      "text/plain": [
       "<Figure size 1600x800 with 1 Axes>"
      ]
     },
     "metadata": {
      "needs_background": "light"
     },
     "output_type": "display_data"
    }
   ],
   "source": [
    "#plot trip duration\n",
    "fig,ax = plt.subplots(figsize=(20,10), dpi= 80) \n",
    "axis_font = {'size':'20'}\n",
    "label_font = {'labelsize':'12'}\n",
    "dic={'fontsize': '24'}\n",
    "\n",
    "ax.plot(df_LA['trip_duration'], color = 'tab:blue')\n",
    "ax.set_title(\"Trip duration\", dic)\n",
    "ax.set_ylabel('hours? (days :C)',**axis_font)\n",
    "ax.set_xlabel('Index of dataset',**axis_font)\n",
    "ax.tick_params(axis='both', **label_font)\n",
    "plt.show()"
   ]
  },
  {
   "cell_type": "markdown",
   "metadata": {},
   "source": [
    "However, we see that the maximum travel time is just over 5 hours, which we consider to be a realistic travel length."
   ]
  },
  {
   "cell_type": "code",
   "execution_count": 51,
   "metadata": {
    "scrolled": true
   },
   "outputs": [
    {
     "data": {
      "text/plain": [
       "count    311852.000000\n",
       "mean          0.768596\n",
       "std           3.439203\n",
       "min           0.016667\n",
       "25%           0.116667\n",
       "50%           0.216667\n",
       "75%           0.483333\n",
       "max         147.483333\n",
       "Name: trip_duration, dtype: float64"
      ]
     },
     "execution_count": 51,
     "metadata": {},
     "output_type": "execute_result"
    }
   ],
   "source": [
    "df_LA['trip_duration'].describe()"
   ]
  },
  {
   "cell_type": "code",
   "execution_count": 52,
   "metadata": {},
   "outputs": [
    {
     "data": {
      "text/plain": [
       "<seaborn.axisgrid.FacetGrid at 0x18cf39798e0>"
      ]
     },
     "execution_count": 52,
     "metadata": {},
     "output_type": "execute_result"
    },
    {
     "data": {
      "image/png": "[encoded data removed]",
      "text/plain": [
       "<Figure size 360x360 with 1 Axes>"
      ]
     },
     "metadata": {
      "needs_background": "light"
     },
     "output_type": "display_data"
    }
   ],
   "source": [
    "sns.displot(df_LA[\"trip_duration\"])"
   ]
  },
  {
   "cell_type": "code",
   "execution_count": 53,
   "metadata": {},
   "outputs": [
    {
     "data": {
      "text/plain": [
       "<seaborn.axisgrid.FacetGrid at 0x18c88bb24f0>"
      ]
     },
     "execution_count": 53,
     "metadata": {},
     "output_type": "execute_result"
    },
    {
     "data": {
      "image/png": "[encoded data removed]",
      "text/plain": [
       "<Figure size 360x360 with 1 Axes>"
      ]
     },
     "metadata": {
      "needs_background": "light"
     },
     "output_type": "display_data"
    }
   ],
   "source": [
    "duration_temp = df_LA[df_LA[\"trip_duration\"] < 20]\n",
    "sns.displot(duration_temp[\"trip_duration\"])"
   ]
  },
  {
   "cell_type": "code",
   "execution_count": 54,
   "metadata": {},
   "outputs": [
    {
     "data": {
      "text/plain": [
       "<seaborn.axisgrid.FacetGrid at 0x18c88338850>"
      ]
     },
     "execution_count": 54,
     "metadata": {},
     "output_type": "execute_result"
    },
    {
     "data": {
      "image/png": "[encoded data removed]",
      "text/plain": [
       "<Figure size 360x360 with 1 Axes>"
      ]
     },
     "metadata": {
      "needs_background": "light"
     },
     "output_type": "display_data"
    }
   ],
   "source": [
    "duration_temp = df_LA[df_LA[\"trip_duration\"] < 10]\n",
    "sns.displot(duration_temp[\"trip_duration\"])"
   ]
  },
  {
   "cell_type": "code",
   "execution_count": 55,
   "metadata": {
    "scrolled": true
   },
   "outputs": [
    {
     "data": {
      "text/plain": [
       "<seaborn.axisgrid.FacetGrid at 0x18cf38343d0>"
      ]
     },
     "execution_count": 55,
     "metadata": {},
     "output_type": "execute_result"
    },
    {
     "data": {
      "image/png": "[encoded data removed]",
      "text/plain": [
       "<Figure size 360x360 with 1 Axes>"
      ]
     },
     "metadata": {
      "needs_background": "light"
     },
     "output_type": "display_data"
    }
   ],
   "source": [
    "duration_temp = df_LA[df_LA[\"trip_duration\"] < 6]\n",
    "sns.displot(duration_temp[\"trip_duration\"])"
   ]
  },
  {
   "cell_type": "markdown",
   "metadata": {},
   "source": [
    "blabalbla hier wir nehmen kleiner 6 (1/4 des tages)"
   ]
  },
  {
   "cell_type": "code",
   "execution_count": 56,
   "metadata": {},
   "outputs": [],
   "source": [
    "duration_temp = df_LA[df_LA[\"trip_duration\"] <= 6]\n",
    "x = duration_temp.count() / df_LA.count()\n"
   ]
  },
  {
   "cell_type": "code",
   "execution_count": 72,
   "metadata": {},
   "outputs": [
    {
     "data": {
      "text/html": [
       "<div>\n",
       "<style scoped>\n",
       "    .dataframe tbody tr th:only-of-type {\n",
       "        vertical-align: middle;\n",
       "    }\n",
       "\n",
       "    .dataframe tbody tr th {\n",
       "        vertical-align: top;\n",
       "    }\n",
       "\n",
       "    .dataframe thead th {\n",
       "        text-align: right;\n",
       "    }\n",
       "</style>\n",
       "<table border=\"1\" class=\"dataframe\">\n",
       "  <thead>\n",
       "    <tr style=\"text-align: right;\">\n",
       "      <th></th>\n",
       "      <th>start_time</th>\n",
       "      <th>end_time</th>\n",
       "      <th>start_station_id</th>\n",
       "      <th>end_station_id</th>\n",
       "      <th>bike_id</th>\n",
       "      <th>user_type</th>\n",
       "      <th>start_station_name</th>\n",
       "      <th>end_station_name</th>\n",
       "      <th>trip_duration</th>\n",
       "    </tr>\n",
       "  </thead>\n",
       "  <tbody>\n",
       "    <tr>\n",
       "      <th>0</th>\n",
       "      <td>2018-01-01 00:04:00</td>\n",
       "      <td>2018-01-01 00:25:00</td>\n",
       "      <td>3063</td>\n",
       "      <td>3018</td>\n",
       "      <td>5889</td>\n",
       "      <td>Walk-up</td>\n",
       "      <td>Pershing Square</td>\n",
       "      <td>Grand &amp; Olympic</td>\n",
       "      <td>0.350000</td>\n",
       "    </tr>\n",
       "    <tr>\n",
       "      <th>1</th>\n",
       "      <td>2018-01-01 00:05:00</td>\n",
       "      <td>2018-01-01 00:25:00</td>\n",
       "      <td>3063</td>\n",
       "      <td>3018</td>\n",
       "      <td>6311</td>\n",
       "      <td>Walk-up</td>\n",
       "      <td>Pershing Square</td>\n",
       "      <td>Grand &amp; Olympic</td>\n",
       "      <td>0.333333</td>\n",
       "    </tr>\n",
       "    <tr>\n",
       "      <th>2</th>\n",
       "      <td>2018-01-01 00:06:00</td>\n",
       "      <td>2018-01-01 00:25:00</td>\n",
       "      <td>3063</td>\n",
       "      <td>3018</td>\n",
       "      <td>5753</td>\n",
       "      <td>Walk-up</td>\n",
       "      <td>Pershing Square</td>\n",
       "      <td>Grand &amp; Olympic</td>\n",
       "      <td>0.316667</td>\n",
       "    </tr>\n",
       "    <tr>\n",
       "      <th>3</th>\n",
       "      <td>2018-01-01 00:13:00</td>\n",
       "      <td>2018-01-01 00:35:00</td>\n",
       "      <td>3018</td>\n",
       "      <td>3031</td>\n",
       "      <td>6220</td>\n",
       "      <td>Monthly Pass</td>\n",
       "      <td>Grand &amp; Olympic</td>\n",
       "      <td>7th &amp; Spring</td>\n",
       "      <td>0.366667</td>\n",
       "    </tr>\n",
       "    <tr>\n",
       "      <th>4</th>\n",
       "      <td>2018-01-01 00:14:00</td>\n",
       "      <td>2018-01-01 00:59:00</td>\n",
       "      <td>4204</td>\n",
       "      <td>4216</td>\n",
       "      <td>12436</td>\n",
       "      <td>Monthly Pass</td>\n",
       "      <td>Washington &amp; Abbot Kinney</td>\n",
       "      <td>17th St / SMC E Line Station</td>\n",
       "      <td>0.750000</td>\n",
       "    </tr>\n",
       "  </tbody>\n",
       "</table>\n",
       "</div>"
      ],
      "text/plain": [
       "           start_time            end_time  start_station_id  end_station_id  \\\n",
       "0 2018-01-01 00:04:00 2018-01-01 00:25:00              3063            3018   \n",
       "1 2018-01-01 00:05:00 2018-01-01 00:25:00              3063            3018   \n",
       "2 2018-01-01 00:06:00 2018-01-01 00:25:00              3063            3018   \n",
       "3 2018-01-01 00:13:00 2018-01-01 00:35:00              3018            3031   \n",
       "4 2018-01-01 00:14:00 2018-01-01 00:59:00              4204            4216   \n",
       "\n",
       "   bike_id     user_type         start_station_name  \\\n",
       "0     5889       Walk-up            Pershing Square   \n",
       "1     6311       Walk-up            Pershing Square   \n",
       "2     5753       Walk-up            Pershing Square   \n",
       "3     6220  Monthly Pass            Grand & Olympic   \n",
       "4    12436  Monthly Pass  Washington & Abbot Kinney   \n",
       "\n",
       "               end_station_name  trip_duration  \n",
       "0               Grand & Olympic       0.350000  \n",
       "1               Grand & Olympic       0.333333  \n",
       "2               Grand & Olympic       0.316667  \n",
       "3                  7th & Spring       0.366667  \n",
       "4  17th St / SMC E Line Station       0.750000  "
      ]
     },
     "execution_count": 72,
     "metadata": {},
     "output_type": "execute_result"
    }
   ],
   "source": [
    "df_LA = duration_temp\n",
    "df_LA.head()"
   ]
  },
  {
   "cell_type": "markdown",
   "metadata": {},
   "source": [
    "### Only one trip at the same time"
   ]
  },
  {
   "cell_type": "code",
   "execution_count": 58,
   "metadata": {
    "scrolled": false
   },
   "outputs": [
    {
     "name": "stdout",
     "output_type": "stream",
     "text": [
      "Wrong entrys: 237\n"
     ]
    }
   ],
   "source": [
    "df_id = df_LA.sort_values(by=['bike_id','start_time'], ascending=True)\n",
    "temp = df_id[['start_time','end_time', 'bike_id']]\n",
    "\n",
    "#add columns next_ride_start and next_bike_id which contain the shifted columns\n",
    "temp = temp.assign(next_ride_start=0)\n",
    "temp['next_ride_start']= temp['start_time'].shift(periods=-1)\n",
    "temp = temp.assign(next_bike_id=0)\n",
    "temp['next_bike_id']= temp['bike_id'].shift(periods=-1)\n",
    "\n",
    "#compare the id (id_compare) to ensure, the next trip is with the same bike\n",
    "#compare the start time of the next trip to the end time of the previos trip\n",
    "temp['id_compare'] = temp.apply(lambda x: True if ((x['bike_id'] == x['next_bike_id'])) else False, axis=1)\n",
    "temp = temp.dropna() #drop last row because of nan\n",
    "temp['check'] = temp.apply(lambda x: True if ((x['next_ride_start'] >= x['end_time'])) else False, axis=1)\n",
    "\n",
    "#Find wrong entrys in dataset\n",
    "df_trips_same_time = temp[(temp['check']==False)&(temp['id_compare']==True)]\n",
    "print('Wrong entrys: '+str(len(df_trips_same_time)))"
   ]
  },
  {
   "cell_type": "markdown",
   "metadata": {},
   "source": [
    "**Exapmle of wrong entrys:** 193634, 193636, 194167 <br> In the original dataframe (below) you can see, that the trips 193634, 193636 and 194167 are unrealistic."
   ]
  },
  {
   "cell_type": "code",
   "execution_count": 59,
   "metadata": {
    "scrolled": true
   },
   "outputs": [
    {
     "data": {
      "text/html": [
       "<div>\n",
       "<style scoped>\n",
       "    .dataframe tbody tr th:only-of-type {\n",
       "        vertical-align: middle;\n",
       "    }\n",
       "\n",
       "    .dataframe tbody tr th {\n",
       "        vertical-align: top;\n",
       "    }\n",
       "\n",
       "    .dataframe thead th {\n",
       "        text-align: right;\n",
       "    }\n",
       "</style>\n",
       "<table border=\"1\" class=\"dataframe\">\n",
       "  <thead>\n",
       "    <tr style=\"text-align: right;\">\n",
       "      <th></th>\n",
       "      <th>start_time</th>\n",
       "      <th>end_time</th>\n",
       "      <th>bike_id</th>\n",
       "      <th>next_ride_start</th>\n",
       "      <th>next_bike_id</th>\n",
       "      <th>id_compare</th>\n",
       "      <th>check</th>\n",
       "    </tr>\n",
       "  </thead>\n",
       "  <tbody>\n",
       "    <tr>\n",
       "      <th>193634</th>\n",
       "      <td>2018-08-19 14:32:00</td>\n",
       "      <td>2018-08-19 20:32:00</td>\n",
       "      <td>5006</td>\n",
       "      <td>2018-08-19 14:32:00</td>\n",
       "      <td>5006.0</td>\n",
       "      <td>True</td>\n",
       "      <td>False</td>\n",
       "    </tr>\n",
       "    <tr>\n",
       "      <th>193636</th>\n",
       "      <td>2018-08-19 14:32:00</td>\n",
       "      <td>2018-08-19 14:52:00</td>\n",
       "      <td>5006</td>\n",
       "      <td>2018-08-19 14:32:00</td>\n",
       "      <td>5006.0</td>\n",
       "      <td>True</td>\n",
       "      <td>False</td>\n",
       "    </tr>\n",
       "    <tr>\n",
       "      <th>194167</th>\n",
       "      <td>2018-08-19 20:32:00</td>\n",
       "      <td>2018-08-20 02:32:00</td>\n",
       "      <td>5006</td>\n",
       "      <td>2018-08-19 20:32:00</td>\n",
       "      <td>5006.0</td>\n",
       "      <td>True</td>\n",
       "      <td>False</td>\n",
       "    </tr>\n",
       "  </tbody>\n",
       "</table>\n",
       "</div>"
      ],
      "text/plain": [
       "                start_time            end_time  bike_id     next_ride_start  \\\n",
       "193634 2018-08-19 14:32:00 2018-08-19 20:32:00     5006 2018-08-19 14:32:00   \n",
       "193636 2018-08-19 14:32:00 2018-08-19 14:52:00     5006 2018-08-19 14:32:00   \n",
       "194167 2018-08-19 20:32:00 2018-08-20 02:32:00     5006 2018-08-19 20:32:00   \n",
       "\n",
       "        next_bike_id  id_compare  check  \n",
       "193634        5006.0        True  False  \n",
       "193636        5006.0        True  False  \n",
       "194167        5006.0        True  False  "
      ]
     },
     "execution_count": 59,
     "metadata": {},
     "output_type": "execute_result"
    }
   ],
   "source": [
    "#df_trips_same_time dataframe\n",
    "df_trips_same_time[(df_trips_same_time['bike_id']==5006)&(df_trips_same_time['start_time']>='2018-08-19 14:32:00')].head(5)"
   ]
  },
  {
   "cell_type": "code",
   "execution_count": 60,
   "metadata": {},
   "outputs": [
    {
     "data": {
      "text/html": [
       "<div>\n",
       "<style scoped>\n",
       "    .dataframe tbody tr th:only-of-type {\n",
       "        vertical-align: middle;\n",
       "    }\n",
       "\n",
       "    .dataframe tbody tr th {\n",
       "        vertical-align: top;\n",
       "    }\n",
       "\n",
       "    .dataframe thead th {\n",
       "        text-align: right;\n",
       "    }\n",
       "</style>\n",
       "<table border=\"1\" class=\"dataframe\">\n",
       "  <thead>\n",
       "    <tr style=\"text-align: right;\">\n",
       "      <th></th>\n",
       "      <th>start_time</th>\n",
       "      <th>end_time</th>\n",
       "      <th>start_station_id</th>\n",
       "      <th>end_station_id</th>\n",
       "      <th>bike_id</th>\n",
       "      <th>user_type</th>\n",
       "      <th>start_station_name</th>\n",
       "      <th>end_station_name</th>\n",
       "      <th>trip_duration</th>\n",
       "    </tr>\n",
       "  </thead>\n",
       "  <tbody>\n",
       "    <tr>\n",
       "      <th>193634</th>\n",
       "      <td>2018-08-19 14:32:00</td>\n",
       "      <td>2018-08-19 20:32:00</td>\n",
       "      <td>4126</td>\n",
       "      <td>4126</td>\n",
       "      <td>5006</td>\n",
       "      <td>Monthly Pass</td>\n",
       "      <td>Cabrillo Beach</td>\n",
       "      <td>Cabrillo Beach</td>\n",
       "      <td>6.000000</td>\n",
       "    </tr>\n",
       "    <tr>\n",
       "      <th>193636</th>\n",
       "      <td>2018-08-19 14:32:00</td>\n",
       "      <td>2018-08-19 14:52:00</td>\n",
       "      <td>4126</td>\n",
       "      <td>4131</td>\n",
       "      <td>5006</td>\n",
       "      <td>Monthly Pass</td>\n",
       "      <td>Cabrillo Beach</td>\n",
       "      <td>Downtown Harbor</td>\n",
       "      <td>0.333333</td>\n",
       "    </tr>\n",
       "    <tr>\n",
       "      <th>193637</th>\n",
       "      <td>2018-08-19 14:32:00</td>\n",
       "      <td>2018-08-19 14:52:00</td>\n",
       "      <td>4126</td>\n",
       "      <td>4126</td>\n",
       "      <td>5006</td>\n",
       "      <td>Monthly Pass</td>\n",
       "      <td>Cabrillo Beach</td>\n",
       "      <td>Cabrillo Beach</td>\n",
       "      <td>0.333333</td>\n",
       "    </tr>\n",
       "    <tr>\n",
       "      <th>194167</th>\n",
       "      <td>2018-08-19 20:32:00</td>\n",
       "      <td>2018-08-20 02:32:00</td>\n",
       "      <td>4126</td>\n",
       "      <td>4126</td>\n",
       "      <td>5006</td>\n",
       "      <td>Monthly Pass</td>\n",
       "      <td>Cabrillo Beach</td>\n",
       "      <td>Cabrillo Beach</td>\n",
       "      <td>6.000000</td>\n",
       "    </tr>\n",
       "    <tr>\n",
       "      <th>194168</th>\n",
       "      <td>2018-08-19 20:32:00</td>\n",
       "      <td>2018-08-19 20:52:00</td>\n",
       "      <td>4126</td>\n",
       "      <td>4131</td>\n",
       "      <td>5006</td>\n",
       "      <td>Monthly Pass</td>\n",
       "      <td>Cabrillo Beach</td>\n",
       "      <td>Downtown Harbor</td>\n",
       "      <td>0.333333</td>\n",
       "    </tr>\n",
       "  </tbody>\n",
       "</table>\n",
       "</div>"
      ],
      "text/plain": [
       "                start_time            end_time  start_station_id  \\\n",
       "193634 2018-08-19 14:32:00 2018-08-19 20:32:00              4126   \n",
       "193636 2018-08-19 14:32:00 2018-08-19 14:52:00              4126   \n",
       "193637 2018-08-19 14:32:00 2018-08-19 14:52:00              4126   \n",
       "194167 2018-08-19 20:32:00 2018-08-20 02:32:00              4126   \n",
       "194168 2018-08-19 20:32:00 2018-08-19 20:52:00              4126   \n",
       "\n",
       "        end_station_id  bike_id     user_type start_station_name  \\\n",
       "193634            4126     5006  Monthly Pass     Cabrillo Beach   \n",
       "193636            4131     5006  Monthly Pass     Cabrillo Beach   \n",
       "193637            4126     5006  Monthly Pass     Cabrillo Beach   \n",
       "194167            4126     5006  Monthly Pass     Cabrillo Beach   \n",
       "194168            4131     5006  Monthly Pass     Cabrillo Beach   \n",
       "\n",
       "       end_station_name  trip_duration  \n",
       "193634   Cabrillo Beach       6.000000  \n",
       "193636  Downtown Harbor       0.333333  \n",
       "193637   Cabrillo Beach       0.333333  \n",
       "194167   Cabrillo Beach       6.000000  \n",
       "194168  Downtown Harbor       0.333333  "
      ]
     },
     "execution_count": 60,
     "metadata": {},
     "output_type": "execute_result"
    }
   ],
   "source": [
    "#original dataframe\n",
    "df_id[(df_id['bike_id']==5006)&(df_id['start_time']>='2018-08-19 14:32:00')].head(5)"
   ]
  },
  {
   "cell_type": "code",
   "execution_count": 61,
   "metadata": {},
   "outputs": [
    {
     "name": "stdout",
     "output_type": "stream",
     "text": [
      "Entrys before drop: 311852\n",
      "Entrys after drop: 311615\n"
     ]
    }
   ],
   "source": [
    "#drop the found data from the df_LA\n",
    "print('Entrys before drop: ' + str(len(df_LA)))\n",
    "droplist = list(df_trips_same_time.index)\n",
    "droplist\n",
    "df_LA = df_LA.drop(droplist)\n",
    "print('Entrys after drop: ' + str(len(df_LA)))"
   ]
  },
  {
   "cell_type": "markdown",
   "metadata": {},
   "source": [
    "### Export"
   ]
  },
  {
   "cell_type": "code",
   "execution_count": 62,
   "metadata": {
    "scrolled": false
   },
   "outputs": [
    {
     "data": {
      "text/html": [
       "<div>\n",
       "<style scoped>\n",
       "    .dataframe tbody tr th:only-of-type {\n",
       "        vertical-align: middle;\n",
       "    }\n",
       "\n",
       "    .dataframe tbody tr th {\n",
       "        vertical-align: top;\n",
       "    }\n",
       "\n",
       "    .dataframe thead th {\n",
       "        text-align: right;\n",
       "    }\n",
       "</style>\n",
       "<table border=\"1\" class=\"dataframe\">\n",
       "  <thead>\n",
       "    <tr style=\"text-align: right;\">\n",
       "      <th></th>\n",
       "      <th>start_time</th>\n",
       "      <th>end_time</th>\n",
       "      <th>start_station_id</th>\n",
       "      <th>end_station_id</th>\n",
       "      <th>bike_id</th>\n",
       "      <th>user_type</th>\n",
       "      <th>start_station_name</th>\n",
       "      <th>end_station_name</th>\n",
       "      <th>trip_duration</th>\n",
       "    </tr>\n",
       "  </thead>\n",
       "  <tbody>\n",
       "    <tr>\n",
       "      <th>0</th>\n",
       "      <td>2018-01-01 00:04:00</td>\n",
       "      <td>2018-01-01 00:25:00</td>\n",
       "      <td>3063</td>\n",
       "      <td>3018</td>\n",
       "      <td>5889</td>\n",
       "      <td>Walk-up</td>\n",
       "      <td>Pershing Square</td>\n",
       "      <td>Grand &amp; Olympic</td>\n",
       "      <td>0.350000</td>\n",
       "    </tr>\n",
       "    <tr>\n",
       "      <th>1</th>\n",
       "      <td>2018-01-01 00:05:00</td>\n",
       "      <td>2018-01-01 00:25:00</td>\n",
       "      <td>3063</td>\n",
       "      <td>3018</td>\n",
       "      <td>6311</td>\n",
       "      <td>Walk-up</td>\n",
       "      <td>Pershing Square</td>\n",
       "      <td>Grand &amp; Olympic</td>\n",
       "      <td>0.333333</td>\n",
       "    </tr>\n",
       "    <tr>\n",
       "      <th>2</th>\n",
       "      <td>2018-01-01 00:06:00</td>\n",
       "      <td>2018-01-01 00:25:00</td>\n",
       "      <td>3063</td>\n",
       "      <td>3018</td>\n",
       "      <td>5753</td>\n",
       "      <td>Walk-up</td>\n",
       "      <td>Pershing Square</td>\n",
       "      <td>Grand &amp; Olympic</td>\n",
       "      <td>0.316667</td>\n",
       "    </tr>\n",
       "    <tr>\n",
       "      <th>3</th>\n",
       "      <td>2018-01-01 00:13:00</td>\n",
       "      <td>2018-01-01 00:35:00</td>\n",
       "      <td>3018</td>\n",
       "      <td>3031</td>\n",
       "      <td>6220</td>\n",
       "      <td>Monthly Pass</td>\n",
       "      <td>Grand &amp; Olympic</td>\n",
       "      <td>7th &amp; Spring</td>\n",
       "      <td>0.366667</td>\n",
       "    </tr>\n",
       "    <tr>\n",
       "      <th>4</th>\n",
       "      <td>2018-01-01 00:14:00</td>\n",
       "      <td>2018-01-01 00:59:00</td>\n",
       "      <td>4204</td>\n",
       "      <td>4216</td>\n",
       "      <td>12436</td>\n",
       "      <td>Monthly Pass</td>\n",
       "      <td>Washington &amp; Abbot Kinney</td>\n",
       "      <td>17th St / SMC E Line Station</td>\n",
       "      <td>0.750000</td>\n",
       "    </tr>\n",
       "    <tr>\n",
       "      <th>...</th>\n",
       "      <td>...</td>\n",
       "      <td>...</td>\n",
       "      <td>...</td>\n",
       "      <td>...</td>\n",
       "      <td>...</td>\n",
       "      <td>...</td>\n",
       "      <td>...</td>\n",
       "      <td>...</td>\n",
       "      <td>...</td>\n",
       "    </tr>\n",
       "    <tr>\n",
       "      <th>311889</th>\n",
       "      <td>2018-12-31 23:46:00</td>\n",
       "      <td>2018-12-31 23:55:00</td>\n",
       "      <td>3069</td>\n",
       "      <td>3069</td>\n",
       "      <td>6222</td>\n",
       "      <td>Walk-up</td>\n",
       "      <td>Broadway &amp; 3rd</td>\n",
       "      <td>Broadway &amp; 3rd</td>\n",
       "      <td>0.150000</td>\n",
       "    </tr>\n",
       "    <tr>\n",
       "      <th>311890</th>\n",
       "      <td>2018-12-31 23:47:00</td>\n",
       "      <td>2018-12-31 23:54:00</td>\n",
       "      <td>3069</td>\n",
       "      <td>3069</td>\n",
       "      <td>5730</td>\n",
       "      <td>Walk-up</td>\n",
       "      <td>Broadway &amp; 3rd</td>\n",
       "      <td>Broadway &amp; 3rd</td>\n",
       "      <td>0.116667</td>\n",
       "    </tr>\n",
       "    <tr>\n",
       "      <th>311891</th>\n",
       "      <td>2018-12-31 23:51:00</td>\n",
       "      <td>2019-01-01 01:28:00</td>\n",
       "      <td>4211</td>\n",
       "      <td>4210</td>\n",
       "      <td>12347</td>\n",
       "      <td>Walk-up</td>\n",
       "      <td>Pacific &amp; North Venice</td>\n",
       "      <td>Ocean Front Walk &amp; North Venice</td>\n",
       "      <td>1.616667</td>\n",
       "    </tr>\n",
       "    <tr>\n",
       "      <th>311892</th>\n",
       "      <td>2018-12-31 23:54:00</td>\n",
       "      <td>2019-01-01 00:22:00</td>\n",
       "      <td>3005</td>\n",
       "      <td>3082</td>\n",
       "      <td>12128</td>\n",
       "      <td>Walk-up</td>\n",
       "      <td>7th &amp; Flower</td>\n",
       "      <td>Traction &amp; Rose</td>\n",
       "      <td>0.466667</td>\n",
       "    </tr>\n",
       "    <tr>\n",
       "      <th>311893</th>\n",
       "      <td>2018-12-31 23:56:00</td>\n",
       "      <td>2019-01-01 00:22:00</td>\n",
       "      <td>3005</td>\n",
       "      <td>3082</td>\n",
       "      <td>12017</td>\n",
       "      <td>Walk-up</td>\n",
       "      <td>7th &amp; Flower</td>\n",
       "      <td>Traction &amp; Rose</td>\n",
       "      <td>0.433333</td>\n",
       "    </tr>\n",
       "  </tbody>\n",
       "</table>\n",
       "<p>311615 rows × 9 columns</p>\n",
       "</div>"
      ],
      "text/plain": [
       "                start_time            end_time  start_station_id  \\\n",
       "0      2018-01-01 00:04:00 2018-01-01 00:25:00              3063   \n",
       "1      2018-01-01 00:05:00 2018-01-01 00:25:00              3063   \n",
       "2      2018-01-01 00:06:00 2018-01-01 00:25:00              3063   \n",
       "3      2018-01-01 00:13:00 2018-01-01 00:35:00              3018   \n",
       "4      2018-01-01 00:14:00 2018-01-01 00:59:00              4204   \n",
       "...                    ...                 ...               ...   \n",
       "311889 2018-12-31 23:46:00 2018-12-31 23:55:00              3069   \n",
       "311890 2018-12-31 23:47:00 2018-12-31 23:54:00              3069   \n",
       "311891 2018-12-31 23:51:00 2019-01-01 01:28:00              4211   \n",
       "311892 2018-12-31 23:54:00 2019-01-01 00:22:00              3005   \n",
       "311893 2018-12-31 23:56:00 2019-01-01 00:22:00              3005   \n",
       "\n",
       "        end_station_id  bike_id     user_type         start_station_name  \\\n",
       "0                 3018     5889       Walk-up            Pershing Square   \n",
       "1                 3018     6311       Walk-up            Pershing Square   \n",
       "2                 3018     5753       Walk-up            Pershing Square   \n",
       "3                 3031     6220  Monthly Pass            Grand & Olympic   \n",
       "4                 4216    12436  Monthly Pass  Washington & Abbot Kinney   \n",
       "...                ...      ...           ...                        ...   \n",
       "311889            3069     6222       Walk-up             Broadway & 3rd   \n",
       "311890            3069     5730       Walk-up             Broadway & 3rd   \n",
       "311891            4210    12347       Walk-up     Pacific & North Venice   \n",
       "311892            3082    12128       Walk-up               7th & Flower   \n",
       "311893            3082    12017       Walk-up               7th & Flower   \n",
       "\n",
       "                       end_station_name  trip_duration  \n",
       "0                       Grand & Olympic       0.350000  \n",
       "1                       Grand & Olympic       0.333333  \n",
       "2                       Grand & Olympic       0.316667  \n",
       "3                          7th & Spring       0.366667  \n",
       "4          17th St / SMC E Line Station       0.750000  \n",
       "...                                 ...            ...  \n",
       "311889                   Broadway & 3rd       0.150000  \n",
       "311890                   Broadway & 3rd       0.116667  \n",
       "311891  Ocean Front Walk & North Venice       1.616667  \n",
       "311892                  Traction & Rose       0.466667  \n",
       "311893                  Traction & Rose       0.433333  \n",
       "\n",
       "[311615 rows x 9 columns]"
      ]
     },
     "execution_count": 62,
     "metadata": {},
     "output_type": "execute_result"
    }
   ],
   "source": [
    "df_LA.to_csv(r'../data/LA.csv', index = False)\n",
    "df_LA"
   ]
  },
  {
   "cell_type": "markdown",
   "metadata": {},
   "source": [
    "The prepared dataframe is exportet to the designated folder."
   ]
  },
  {
   "cell_type": "markdown",
   "metadata": {},
   "source": [
    "## Kram den ich nach Hinten verschoben habe (bleibt der hier drin?)"
   ]
  },
  {
   "cell_type": "code",
   "execution_count": 63,
   "metadata": {},
   "outputs": [],
   "source": [
    "############################necessary??? All results are 'keep'#####################################\n",
    "\n",
    "#define conditions\n",
    "##conditions = [df_LA['end_time'] < df_LA['start_time'],\n",
    "##              df_LA['start_time'] < df_LA['end_time'],\n",
    "##              df_LA['start_time'] == df_LA['end_time']]\n",
    "\n",
    "#define choices\n",
    "##choices=[\"Delete\",\"Keep\", \"Delete\"]\n",
    "\n",
    "#create new column in DataFrame that displays results of comparisons\n",
    "##df_LA['result'] = np.select(conditions, choices, default='Tie')\n",
    "\n",
    "#view result\n",
    "##df_LA.head()\n",
    "#distinctfct "
   ]
  },
  {
   "cell_type": "code",
   "execution_count": 64,
   "metadata": {},
   "outputs": [],
   "source": [
    "df_2018_q1 = pd.read_csv('../data/metro-bike-share-trips-2018-q1.csv')\n",
    "df_2018_q2 = pd.read_csv('../data/metro-bike-share-trips-2018-q2.csv')\n",
    "df_2018_q3 = pd.read_csv('../data/metro-bike-share-trips-2018-q3.csv')\n",
    "df_2018_q4 = pd.read_csv('../data/metro-bike-share-trips-2018-q4.csv')\n",
    "\n",
    "df_station_table = pd.read_csv('../data/metro-bike-share-stations-2021-10-01.csv')\n",
    "\n",
    "#put together\n",
    "df_2018_complete = df_2018_q1.append(df_2018_q2, ignore_index=False)\n",
    "df_2018_complete = df_2018_complete.append(df_2018_q3, ignore_index=False)\n",
    "df_2018_complete = df_2018_complete.append(df_2018_q4, ignore_index=False)\n",
    "\n",
    "#df_2018_complete"
   ]
  },
  {
   "cell_type": "markdown",
   "metadata": {},
   "source": [
    "## Geolocation Data of Bikesharing Stations"
   ]
  },
  {
   "cell_type": "markdown",
   "metadata": {},
   "source": [
    "**Complete df_station_table with lat and lon for each station**"
   ]
  },
  {
   "cell_type": "code",
   "execution_count": 65,
   "metadata": {},
   "outputs": [
    {
     "data": {
      "text/html": [
       "<div>\n",
       "<style scoped>\n",
       "    .dataframe tbody tr th:only-of-type {\n",
       "        vertical-align: middle;\n",
       "    }\n",
       "\n",
       "    .dataframe tbody tr th {\n",
       "        vertical-align: top;\n",
       "    }\n",
       "\n",
       "    .dataframe thead th {\n",
       "        text-align: right;\n",
       "    }\n",
       "</style>\n",
       "<table border=\"1\" class=\"dataframe\">\n",
       "  <thead>\n",
       "    <tr style=\"text-align: right;\">\n",
       "      <th></th>\n",
       "      <th>lat</th>\n",
       "      <th>lon</th>\n",
       "      <th>station_id</th>\n",
       "      <th>station_name</th>\n",
       "      <th>7/7/2016</th>\n",
       "      <th>N/A</th>\n",
       "      <th>Active</th>\n",
       "    </tr>\n",
       "  </thead>\n",
       "  <tbody>\n",
       "    <tr>\n",
       "      <th>1</th>\n",
       "      <td>34.048500</td>\n",
       "      <td>-118.258537</td>\n",
       "      <td>3005.0</td>\n",
       "      <td>7th &amp; Flower</td>\n",
       "      <td>7/7/2016</td>\n",
       "      <td>DTLA</td>\n",
       "      <td>Active</td>\n",
       "    </tr>\n",
       "    <tr>\n",
       "      <th>2</th>\n",
       "      <td>34.045540</td>\n",
       "      <td>-118.256668</td>\n",
       "      <td>3006.0</td>\n",
       "      <td>Olive &amp; 8th</td>\n",
       "      <td>7/7/2016</td>\n",
       "      <td>DTLA</td>\n",
       "      <td>Active</td>\n",
       "    </tr>\n",
       "    <tr>\n",
       "      <th>3</th>\n",
       "      <td>34.050480</td>\n",
       "      <td>-118.254593</td>\n",
       "      <td>3007.0</td>\n",
       "      <td>5th &amp; Grand</td>\n",
       "      <td>7/7/2016</td>\n",
       "      <td>DTLA</td>\n",
       "      <td>Active</td>\n",
       "    </tr>\n",
       "    <tr>\n",
       "      <th>4</th>\n",
       "      <td>34.046612</td>\n",
       "      <td>-118.262733</td>\n",
       "      <td>3008.0</td>\n",
       "      <td>Figueroa &amp; 9th</td>\n",
       "      <td>7/7/2016</td>\n",
       "      <td>DTLA</td>\n",
       "      <td>Active</td>\n",
       "    </tr>\n",
       "    <tr>\n",
       "      <th>5</th>\n",
       "      <td>34.037048</td>\n",
       "      <td>-118.254868</td>\n",
       "      <td>3010.0</td>\n",
       "      <td>11th &amp; Maple</td>\n",
       "      <td>7/7/2016</td>\n",
       "      <td>DTLA</td>\n",
       "      <td>Active</td>\n",
       "    </tr>\n",
       "    <tr>\n",
       "      <th>...</th>\n",
       "      <td>...</td>\n",
       "      <td>...</td>\n",
       "      <td>...</td>\n",
       "      <td>...</td>\n",
       "      <td>...</td>\n",
       "      <td>...</td>\n",
       "      <td>...</td>\n",
       "    </tr>\n",
       "    <tr>\n",
       "      <th>126</th>\n",
       "      <td>34.028679</td>\n",
       "      <td>-118.284111</td>\n",
       "      <td>4254.0</td>\n",
       "      <td>Hoover &amp; 29th</td>\n",
       "      <td>7/9/2018</td>\n",
       "      <td>DTLA</td>\n",
       "      <td>Active</td>\n",
       "    </tr>\n",
       "    <tr>\n",
       "      <th>128</th>\n",
       "      <td>34.027618</td>\n",
       "      <td>-118.280678</td>\n",
       "      <td>4267.0</td>\n",
       "      <td>28th &amp; University</td>\n",
       "      <td>11/29/2018</td>\n",
       "      <td>DTLA</td>\n",
       "      <td>Active</td>\n",
       "    </tr>\n",
       "    <tr>\n",
       "      <th>129</th>\n",
       "      <td>34.025860</td>\n",
       "      <td>-118.284103</td>\n",
       "      <td>4273.0</td>\n",
       "      <td>Hoover &amp; 32nd</td>\n",
       "      <td>8/23/2018</td>\n",
       "      <td>DTLA</td>\n",
       "      <td>Active</td>\n",
       "    </tr>\n",
       "    <tr>\n",
       "      <th>130</th>\n",
       "      <td>34.012520</td>\n",
       "      <td>-118.285896</td>\n",
       "      <td>4275.0</td>\n",
       "      <td>Expo Park/LAFC</td>\n",
       "      <td>10/8/2018</td>\n",
       "      <td>DTLA</td>\n",
       "      <td>Active</td>\n",
       "    </tr>\n",
       "    <tr>\n",
       "      <th>131</th>\n",
       "      <td>34.047390</td>\n",
       "      <td>-118.218849</td>\n",
       "      <td>4276.0</td>\n",
       "      <td>Mariachi Plaza</td>\n",
       "      <td>12/18/2018</td>\n",
       "      <td>DTLA</td>\n",
       "      <td>Inactive</td>\n",
       "    </tr>\n",
       "  </tbody>\n",
       "</table>\n",
       "<p>128 rows × 7 columns</p>\n",
       "</div>"
      ],
      "text/plain": [
       "           lat         lon  station_id       station_name    7/7/2016   N/A  \\\n",
       "1    34.048500 -118.258537      3005.0       7th & Flower    7/7/2016  DTLA   \n",
       "2    34.045540 -118.256668      3006.0        Olive & 8th    7/7/2016  DTLA   \n",
       "3    34.050480 -118.254593      3007.0        5th & Grand    7/7/2016  DTLA   \n",
       "4    34.046612 -118.262733      3008.0     Figueroa & 9th    7/7/2016  DTLA   \n",
       "5    34.037048 -118.254868      3010.0       11th & Maple    7/7/2016  DTLA   \n",
       "..         ...         ...         ...                ...         ...   ...   \n",
       "126  34.028679 -118.284111      4254.0      Hoover & 29th    7/9/2018  DTLA   \n",
       "128  34.027618 -118.280678      4267.0  28th & University  11/29/2018  DTLA   \n",
       "129  34.025860 -118.284103      4273.0      Hoover & 32nd   8/23/2018  DTLA   \n",
       "130  34.012520 -118.285896      4275.0     Expo Park/LAFC   10/8/2018  DTLA   \n",
       "131  34.047390 -118.218849      4276.0     Mariachi Plaza  12/18/2018  DTLA   \n",
       "\n",
       "       Active  \n",
       "1      Active  \n",
       "2      Active  \n",
       "3      Active  \n",
       "4      Active  \n",
       "5      Active  \n",
       "..        ...  \n",
       "126    Active  \n",
       "128    Active  \n",
       "129    Active  \n",
       "130    Active  \n",
       "131  Inactive  \n",
       "\n",
       "[128 rows x 7 columns]"
      ]
     },
     "execution_count": 65,
     "metadata": {},
     "output_type": "execute_result"
    }
   ],
   "source": [
    "#use lat&lon from df_2018_complete\n",
    "df_complete = df_2018_complete\n",
    "\n",
    "#group by start station and calculate the mean (because of slightly different values in the complete datase)\n",
    "df_start_geo = df_complete.groupby('start_station').mean()\n",
    "df_start_geo = df_start_geo[['start_lat', 'start_lon']]\n",
    "df_start_geo = df_start_geo.reset_index().rename(columns={'start_station': 'key'}).set_index('key')\n",
    "df_start_geo\n",
    "\n",
    "df_geo = df_start_geo\n",
    "\n",
    "df_stations_complete = df_geo.merge(df_station_table, how='left', left_on='key', right_on='3000')\n",
    "df_stations_complete = df_stations_complete.rename(columns={'3000': 'station_id', 'Virtual Station': 'station_name', 'start_lat': 'lat', 'start_lon': 'lon'}).dropna()\n",
    "df_stations_complete"
   ]
  }
 ],
 "metadata": {
  "kernelspec": {
   "display_name": "Python 3",
   "language": "python",
   "name": "python3"
  },
  "language_info": {
   "codemirror_mode": {
    "name": "ipython",
    "version": 3
   },
   "file_extension": ".py",
   "mimetype": "text/x-python",
   "name": "python",
   "nbconvert_exporter": "python",
   "pygments_lexer": "ipython3",
   "version": "3.8.8"
  }
 },
 "nbformat": 4,
 "nbformat_minor": 4
}
