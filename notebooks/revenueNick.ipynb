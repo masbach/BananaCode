{
 "cells": [
  {
   "cell_type": "code",
   "execution_count": 13,
   "id": "9b8640cf",
   "metadata": {},
   "outputs": [],
   "source": [
    "import pandas as pd\n",
    "import numpy as np\n",
    "import matplotlib.pyplot as plt\n",
    "import seaborn as sns\n",
    "from datetime import datetime, timedelta, date, time"
   ]
  },
  {
   "cell_type": "code",
   "execution_count": 14,
   "id": "6bc15b25",
   "metadata": {
    "scrolled": true
   },
   "outputs": [
    {
     "name": "stdout",
     "output_type": "stream",
     "text": [
      "<class 'pandas.core.frame.DataFrame'>\n",
      "RangeIndex: 307104 entries, 0 to 307103\n",
      "Data columns (total 10 columns):\n",
      " #   Column                  Non-Null Count   Dtype  \n",
      "---  ------                  --------------   -----  \n",
      " 0   start_time              307104 non-null  object \n",
      " 1   end_time                307104 non-null  object \n",
      " 2   start_station_id        307104 non-null  int64  \n",
      " 3   end_station_id          307104 non-null  int64  \n",
      " 4   bike_id                 307104 non-null  int64  \n",
      " 5   user_type               307104 non-null  object \n",
      " 6   start_station_name      307104 non-null  object \n",
      " 7   end_station_name        307104 non-null  object \n",
      " 8   trip_duration           307104 non-null  object \n",
      " 9   trip_duration_in_hours  307104 non-null  float64\n",
      "dtypes: float64(1), int64(3), object(6)\n",
      "memory usage: 23.4+ MB\n"
     ]
    }
   ],
   "source": [
    "df_LA = pd.read_csv(\"../data/LA.csv\") \n",
    "df_LA.info()"
   ]
  },
  {
   "cell_type": "code",
   "execution_count": 15,
   "id": "66dbdea8",
   "metadata": {},
   "outputs": [
    {
     "name": "stdout",
     "output_type": "stream",
     "text": [
      "<class 'pandas.core.frame.DataFrame'>\n",
      "RangeIndex: 307104 entries, 0 to 307103\n",
      "Data columns (total 10 columns):\n",
      " #   Column                  Non-Null Count   Dtype         \n",
      "---  ------                  --------------   -----         \n",
      " 0   start_time              307104 non-null  datetime64[ns]\n",
      " 1   end_time                307104 non-null  datetime64[ns]\n",
      " 2   start_station_id        307104 non-null  int64         \n",
      " 3   end_station_id          307104 non-null  int64         \n",
      " 4   bike_id                 307104 non-null  int64         \n",
      " 5   user_type               307104 non-null  object        \n",
      " 6   start_station_name      307104 non-null  object        \n",
      " 7   end_station_name        307104 non-null  object        \n",
      " 8   trip_duration           307104 non-null  object        \n",
      " 9   trip_duration_in_hours  307104 non-null  float64       \n",
      "dtypes: datetime64[ns](2), float64(1), int64(3), object(4)\n",
      "memory usage: 23.4+ MB\n"
     ]
    }
   ],
   "source": [
    "#transform columns start_time and end_time into datetime\n",
    "df_LA['start_time'] = pd.to_datetime(df_LA['start_time'])\n",
    "df_LA['end_time'] = pd.to_datetime(df_LA['end_time'])\n",
    "df_LA.info()"
   ]
  },
  {
   "cell_type": "markdown",
   "id": "2a0c4d7c",
   "metadata": {},
   "source": [
    "Number of rides per user_type"
   ]
  },
  {
   "cell_type": "code",
   "execution_count": 16,
   "id": "6987e29a",
   "metadata": {},
   "outputs": [
    {
     "data": {
      "text/plain": [
       "user_type\n",
       "Annual Pass       2049\n",
       "Flex Pass         6745\n",
       "One Day Pass     16981\n",
       "Walk-up         120354\n",
       "Monthly Pass    160975\n",
       "Name: start_time, dtype: int64"
      ]
     },
     "execution_count": 16,
     "metadata": {},
     "output_type": "execute_result"
    }
   ],
   "source": [
    "df_LA.groupby(\"user_type\").count()[\"start_time\"].sort_values()"
   ]
  },
  {
   "cell_type": "code",
   "execution_count": 17,
   "id": "cf97d1ce",
   "metadata": {},
   "outputs": [
    {
     "data": {
      "text/plain": [
       "<seaborn.axisgrid.FacetGrid at 0x1aa28b7de50>"
      ]
     },
     "execution_count": 17,
     "metadata": {},
     "output_type": "execute_result"
    },
    {
     "data": {
      "image/png": "[encoded data removed]",
      "text/plain": [
       "<Figure size 360x360 with 1 Axes>"
      ]
     },
     "metadata": {
      "needs_background": "light"
     },
     "output_type": "display_data"
    }
   ],
   "source": [
    "sns.displot(df_LA[\"user_type\"]).set_xticklabels(rotation=45)"
   ]
  },
  {
   "cell_type": "markdown",
   "id": "c408652b",
   "metadata": {},
   "source": [
    "Mean of trip duration for different user_types"
   ]
  },
  {
   "cell_type": "code",
   "execution_count": 18,
   "id": "784b1fab",
   "metadata": {
    "scrolled": true
   },
   "outputs": [
    {
     "data": {
      "text/plain": [
       "user_type\n",
       "Annual Pass     0.177379\n",
       "Flex Pass       0.234193\n",
       "Monthly Pass    0.213685\n",
       "One Day Pass    0.899606\n",
       "Walk-up         0.703862\n",
       "Name: trip_duration_in_hours, dtype: float64"
      ]
     },
     "execution_count": 18,
     "metadata": {},
     "output_type": "execute_result"
    }
   ],
   "source": [
    "df_LA.groupby(\"user_type\").mean()[\"trip_duration_in_hours\"]"
   ]
  },
  {
   "cell_type": "markdown",
   "id": "e3f3ac63",
   "metadata": {},
   "source": [
    "Here are the prices that can be found on https://bikeshare.metro.net/ at the moment (actual prices in december 2021). But the same prices seem to partly have been in place also in 2018: https://la.streetsblog.org/2018/05/18/metro-committee-approves-cutting-bike-share-prices-expanding-system/"
   ]
  },
  {
   "cell_type": "markdown",
   "id": "428be60b",
   "metadata": {},
   "source": [
    "<table style=\"float: left\">\n",
    "  <tr>\n",
    "    <th>\"user_type\" in dataset</th>\n",
    "    <th>name on website</th>\n",
    "    <th>pricing</th>\n",
    "  </tr>\n",
    "  <tr>\n",
    "    <td>Annual Pass</td>\n",
    "    <td>365-Day PAss</td>\n",
    "    <td>150/year & 1,75 after 30min</td>\n",
    "  </tr>\n",
    "  <tr>\n",
    "    <td>Flex Pass</td>\n",
    "      <td>(does not exist)</td>\n",
    "    <td>/</td>\n",
    "  </tr>\n",
    "  <tr>\n",
    "    <td>Monthly Pass</td>\n",
    "    <td>30-Day Pass </td>\n",
    "    <td>17/month & 1.75 after 30min</td>\n",
    "  </tr>\n",
    "  <tr>\n",
    "    <td>One Day Pass</td>\n",
    "    <td>24-Hour Access</td>\n",
    "    <td>5/day & 1.75 after 30min</td>\n",
    "  </tr>\n",
    "  <tr>\n",
    "    <td>Walk-Up</td>\n",
    "    <td>1-Ride</td>\n",
    "    <td>1.75 per 30min</td>\n",
    "  </tr>\n",
    "</table>\n"
   ]
  },
  {
   "cell_type": "markdown",
   "id": "0be1efa7",
   "metadata": {},
   "source": [
    "These were the prices that can be found on https://thesource.metro.net/2016/06/22/metro-bike-share-what-will-it-cost-and-how-to-use-tap-to-get-a-bike/ (prices of 2016)"
   ]
  },
  {
   "cell_type": "markdown",
   "id": "cdd05673",
   "metadata": {},
   "source": [
    "<table style=\"float: left\">\n",
    "  <tr>\n",
    "    <th>\"user_type\" in dataset</th>\n",
    "    <th>name on website</th>\n",
    "    <th>pricing</th>\n",
    "  </tr>\n",
    "  <tr>\n",
    "    <td>Annual Pass</td>\n",
    "    <td>(does not exist)</td>\n",
    "    <td>/</td>\n",
    "  </tr>\n",
    "  <tr>\n",
    "    <td>Flex Pass</td>\n",
    "      <td>Flex Pass</td>\n",
    "    <td>40/year & 1.75 after 30min</td>\n",
    "  </tr>\n",
    "  <tr>\n",
    "    <td>Monthly Pass</td>\n",
    "    <td>Monthly Pass </td>\n",
    "    <td>20/month & 1.75 after 30min</td>\n",
    "  </tr>\n",
    "  <tr>\n",
    "    <td>One Day Pass</td>\n",
    "    <td>(does not exist)</td>\n",
    "    <td>/</td>\n",
    "  </tr>\n",
    "  <tr>\n",
    "    <td>Walk-Up</td>\n",
    "    <td>1-Ride</td>\n",
    "    <td>3.50 per 30min</td>\n",
    "  </tr>\n",
    "</table>"
   ]
  },
  {
   "cell_type": "markdown",
   "id": "7309ec7d",
   "metadata": {},
   "source": [
    "@MYSELF das ergibt glaube ich sinn. Flex PAss war alt und 2016. Das neue Model ist dann mit Monthly Pass."
   ]
  },
  {
   "cell_type": "code",
   "execution_count": 20,
   "id": "eabdbae9",
   "metadata": {
    "scrolled": true
   },
   "outputs": [
    {
     "data": {
      "text/plain": [
       "<seaborn.axisgrid.FacetGrid at 0x1aa2947b3a0>"
      ]
     },
     "execution_count": 20,
     "metadata": {},
     "output_type": "execute_result"
    },
    {
     "data": {
      "image/png": "[encoded data removed]",
      "text/plain": [
       "<Figure size 1800x360 with 5 Axes>"
      ]
     },
     "metadata": {
      "needs_background": "light"
     },
     "output_type": "display_data"
    }
   ],
   "source": [
    "df_temp = df_LA.copy()\n",
    "df_temp[\"start_time\"] = df_temp[\"start_time\"].dt.month\n",
    "\n",
    "\n",
    "sns.displot(df_temp, x=\"start_time\", col=\"user_type\")\n",
    "\n",
    "#sns.displot(df_Annual, x=\"start_time\", hue=\"user_type\", multiple = \"stack\")\n"
   ]
  },
  {
   "cell_type": "markdown",
   "id": "e1bc11cd",
   "metadata": {},
   "source": [
    "Having a closer look at the Annual Pass, because there were no rides in the first 8 months."
   ]
  },
  {
   "cell_type": "code",
   "execution_count": 22,
   "id": "729ce0d3",
   "metadata": {},
   "outputs": [
    {
     "data": {
      "text/plain": [
       "<seaborn.axisgrid.FacetGrid at 0x1aa28b87a00>"
      ]
     },
     "execution_count": 22,
     "metadata": {},
     "output_type": "execute_result"
    },
    {
     "data": {
      "image/png": "[encoded data removed]",
      "text/plain": [
       "<Figure size 360x360 with 1 Axes>"
      ]
     },
     "metadata": {
      "needs_background": "light"
     },
     "output_type": "display_data"
    }
   ],
   "source": [
    "sns.displot(df_temp[df_temp[\"user_type\"] == \"Annual Pass\"], x=\"start_time\")"
   ]
  },
  {
   "cell_type": "code",
   "execution_count": 24,
   "id": "72dda589",
   "metadata": {},
   "outputs": [
    {
     "data": {
      "text/plain": [
       "count                             2049\n",
       "mean     2018-11-24 10:45:31.039531264\n",
       "min                2018-09-29 13:52:00\n",
       "25%                2018-11-08 15:06:00\n",
       "50%                2018-11-27 09:46:00\n",
       "75%                2018-12-13 09:05:00\n",
       "max                2018-12-31 22:46:00\n",
       "Name: start_time, dtype: object"
      ]
     },
     "execution_count": 24,
     "metadata": {},
     "output_type": "execute_result"
    }
   ],
   "source": [
    "df_LA[df_LA[\"user_type\"] == \"Annual Pass\"][\"start_time\"].describe(datetime_is_numeric=True)"
   ]
  },
  {
   "cell_type": "markdown",
   "id": "7b87e5fb",
   "metadata": {},
   "source": [
    "The first time a ride with the Annual Pass took place was on 2018-09-29. The Annual Pass was introduced in ???"
   ]
  },
  {
   "cell_type": "code",
   "execution_count": null,
   "id": "8377b3a7",
   "metadata": {},
   "outputs": [],
   "source": []
  },
  {
   "cell_type": "code",
   "execution_count": null,
   "id": "239f2422",
   "metadata": {},
   "outputs": [],
   "source": []
  }
 ],
 "metadata": {
  "kernelspec": {
   "display_name": "Python 3",
   "language": "python",
   "name": "python3"
  },
  "language_info": {
   "codemirror_mode": {
    "name": "ipython",
    "version": 3
   },
   "file_extension": ".py",
   "mimetype": "text/x-python",
   "name": "python",
   "nbconvert_exporter": "python",
   "pygments_lexer": "ipython3",
   "version": "3.8.8"
  }
 },
 "nbformat": 4,
 "nbformat_minor": 5
}
