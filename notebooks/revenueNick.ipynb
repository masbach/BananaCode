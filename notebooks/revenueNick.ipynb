{
 "cells": [
  {
   "cell_type": "markdown",
   "id": "a04e23e7",
   "metadata": {},
   "source": [
    "## Import and formatting"
   ]
  },
  {
   "cell_type": "code",
   "execution_count": 46,
   "id": "9b8640cf",
   "metadata": {},
   "outputs": [],
   "source": [
    "import pandas as pd\n",
    "import numpy as np\n",
    "import matplotlib.pyplot as plt\n",
    "import seaborn as sns\n",
    "from datetime import datetime, timedelta, date, time\n",
    "import math"
   ]
  },
  {
   "cell_type": "code",
   "execution_count": 47,
   "id": "6bc15b25",
   "metadata": {
    "scrolled": true
   },
   "outputs": [],
   "source": [
    "df_LA = pd.read_csv(\"../data/LA.csv\") "
   ]
  },
  {
   "cell_type": "code",
   "execution_count": 48,
   "id": "66dbdea8",
   "metadata": {},
   "outputs": [
    {
     "name": "stdout",
     "output_type": "stream",
     "text": [
      "<class 'pandas.core.frame.DataFrame'>\n",
      "RangeIndex: 306870 entries, 0 to 306869\n",
      "Data columns (total 10 columns):\n",
      " #   Column                  Non-Null Count   Dtype         \n",
      "---  ------                  --------------   -----         \n",
      " 0   start_time              306870 non-null  datetime64[ns]\n",
      " 1   end_time                306870 non-null  datetime64[ns]\n",
      " 2   start_station_id        306870 non-null  int64         \n",
      " 3   end_station_id          306870 non-null  int64         \n",
      " 4   bike_id                 306870 non-null  int64         \n",
      " 5   user_type               306870 non-null  object        \n",
      " 6   start_station_name      306870 non-null  object        \n",
      " 7   end_station_name        306870 non-null  object        \n",
      " 8   trip_duration           306870 non-null  object        \n",
      " 9   trip_duration_in_hours  306870 non-null  float64       \n",
      "dtypes: datetime64[ns](2), float64(1), int64(3), object(4)\n",
      "memory usage: 23.4+ MB\n"
     ]
    }
   ],
   "source": [
    "#transform columns start_time and end_time into datetime\n",
    "df_LA['start_time'] = pd.to_datetime(df_LA['start_time'])\n",
    "df_LA['end_time'] = pd.to_datetime(df_LA['end_time'])\n",
    "df_LA.info()"
   ]
  },
  {
   "cell_type": "markdown",
   "id": "6e293dec",
   "metadata": {},
   "source": [
    "## A firste explorative look"
   ]
  },
  {
   "cell_type": "markdown",
   "id": "2a0c4d7c",
   "metadata": {},
   "source": [
    "At first we have a look at how many rides were done by each user type:"
   ]
  },
  {
   "cell_type": "code",
   "execution_count": 49,
   "id": "6987e29a",
   "metadata": {},
   "outputs": [
    {
     "data": {
      "text/plain": [
       "user_type\n",
       "Annual Pass       2049\n",
       "Flex Pass         6739\n",
       "One Day Pass     16957\n",
       "Walk-up         120351\n",
       "Monthly Pass    160774\n",
       "Name: start_time, dtype: int64"
      ]
     },
     "execution_count": 49,
     "metadata": {},
     "output_type": "execute_result"
    }
   ],
   "source": [
    "df_LA.groupby(\"user_type\").count()[\"start_time\"].sort_values()"
   ]
  },
  {
   "cell_type": "code",
   "execution_count": 50,
   "id": "cf97d1ce",
   "metadata": {},
   "outputs": [
    {
     "data": {
      "text/plain": [
       "<seaborn.axisgrid.FacetGrid at 0x1faa0e51310>"
      ]
     },
     "execution_count": 50,
     "metadata": {},
     "output_type": "execute_result"
    },
    {
     "data": {
      "image/png": "[encoded data removed]",
      "text/plain": [
       "<Figure size 360x360 with 1 Axes>"
      ]
     },
     "metadata": {
      "needs_background": "light"
     },
     "output_type": "display_data"
    }
   ],
   "source": [
    "sns.displot(df_LA[\"user_type\"]).set_xticklabels(rotation=45)"
   ]
  },
  {
   "cell_type": "markdown",
   "id": "30dda522",
   "metadata": {},
   "source": [
    "## The pricing system"
   ]
  },
  {
   "cell_type": "markdown",
   "id": "e3f3ac63",
   "metadata": {},
   "source": [
    "Below the prices are listed which are in place at the moment (december 2021): https://t1p.de/xop9n<br>\n",
    "The same prices have been in place since August of 2018: https://t1p.de/6cep"
   ]
  },
  {
   "cell_type": "markdown",
   "id": "428be60b",
   "metadata": {},
   "source": [
    "<table style=\"float: left\">\n",
    "  <tr>\n",
    "    <th>\"user_type\" in dataset</th>\n",
    "    <th>name on website</th>\n",
    "    <th>pricing</th>\n",
    "  </tr>\n",
    "  <tr>\n",
    "    <td>Annual Pass</td>\n",
    "    <td>365-Day PAss</td>\n",
    "    <td>150/year & 1,75 after 30min</td>\n",
    "  </tr>\n",
    "  <tr>\n",
    "    <td>Flex Pass</td>\n",
    "      <td>(does not exist)</td>\n",
    "    <td>/</td>\n",
    "  </tr>\n",
    "  <tr>\n",
    "    <td>Monthly Pass</td>\n",
    "    <td>30-Day Pass </td>\n",
    "    <td>17/month & 1.75 after 30min</td>\n",
    "  </tr>\n",
    "  <tr>\n",
    "    <td>One Day Pass</td>\n",
    "    <td>24-Hour Access</td>\n",
    "    <td>5/day & 1.75 after 30min</td>\n",
    "  </tr>\n",
    "  <tr>\n",
    "    <td>Walk-Up</td>\n",
    "    <td>1-Ride</td>\n",
    "    <td>1.75 per 30min</td>\n",
    "  </tr>\n",
    "</table>\n"
   ]
  },
  {
   "cell_type": "markdown",
   "id": "0be1efa7",
   "metadata": {},
   "source": [
    "In June 2016 the following princing system was in place: https://t1p.de/spq7"
   ]
  },
  {
   "cell_type": "markdown",
   "id": "cdd05673",
   "metadata": {},
   "source": [
    "<table style=\"float: left\">\n",
    "  <tr>\n",
    "    <th>\"user_type\" in dataset</th>\n",
    "    <th>name on website</th>\n",
    "    <th>pricing</th>\n",
    "  </tr>\n",
    "  <tr>\n",
    "    <td>Annual Pass</td>\n",
    "    <td>(does not exist)</td>\n",
    "    <td>/</td>\n",
    "  </tr>\n",
    "  <tr>\n",
    "    <td>Flex Pass</td>\n",
    "      <td>Flex Pass</td>\n",
    "    <td>40/year & 1.75 after 30min</td>\n",
    "  </tr>\n",
    "  <tr>\n",
    "    <td>Monthly Pass</td>\n",
    "    <td>Monthly Pass </td>\n",
    "    <td>20/month & 1.75 after 30min</td>\n",
    "  </tr>\n",
    "  <tr>\n",
    "    <td>One Day Pass</td>\n",
    "    <td>(does not exist)</td>\n",
    "    <td>/</td>\n",
    "  </tr>\n",
    "  <tr>\n",
    "    <td>Walk-Up</td>\n",
    "    <td>1-Ride</td>\n",
    "    <td>3.50 per 30min</td>\n",
    "  </tr>\n",
    "</table>"
   ]
  },
  {
   "cell_type": "markdown",
   "id": "7309ec7d",
   "metadata": {},
   "source": [
    "Prices have changed within 2018. Unfortunately, there is no information on the Internet about what the prices were at the beginning of 2018. <br>\n",
    "We now take a look at how often rides were started by the different user_types:"
   ]
  },
  {
   "cell_type": "code",
   "execution_count": 51,
   "id": "eabdbae9",
   "metadata": {
    "scrolled": false
   },
   "outputs": [
    {
     "data": {
      "text/plain": [
       "<seaborn.axisgrid.FacetGrid at 0x1faa317f490>"
      ]
     },
     "execution_count": 51,
     "metadata": {},
     "output_type": "execute_result"
    },
    {
     "data": {
      "image/png": "[encoded data removed]",
      "text/plain": [
       "<Figure size 1800x360 with 5 Axes>"
      ]
     },
     "metadata": {
      "needs_background": "light"
     },
     "output_type": "display_data"
    }
   ],
   "source": [
    "df_temp = df_LA.copy()\n",
    "df_temp[\"start_time\"] = df_temp[\"start_time\"].dt.month\n",
    "\n",
    "\n",
    "sns.displot(df_temp, x=\"start_time\", col=\"user_type\")\n",
    "\n",
    "#sns.displot(df_Annual, x=\"start_time\", hue=\"user_type\", multiple = \"stack\")\n"
   ]
  },
  {
   "cell_type": "markdown",
   "id": "e1bc11cd",
   "metadata": {},
   "source": [
    "Having a closer look at the Annual Pass, because there were no rides in the first 8 months."
   ]
  },
  {
   "cell_type": "code",
   "execution_count": 52,
   "id": "729ce0d3",
   "metadata": {},
   "outputs": [
    {
     "data": {
      "text/plain": [
       "<seaborn.axisgrid.FacetGrid at 0x1faa57de760>"
      ]
     },
     "execution_count": 52,
     "metadata": {},
     "output_type": "execute_result"
    },
    {
     "data": {
      "image/png": "[encoded data removed]",
      "text/plain": [
       "<Figure size 360x360 with 1 Axes>"
      ]
     },
     "metadata": {
      "needs_background": "light"
     },
     "output_type": "display_data"
    }
   ],
   "source": [
    "sns.displot(df_temp[df_temp[\"user_type\"] == \"Annual Pass\"], x=\"start_time\")"
   ]
  },
  {
   "cell_type": "code",
   "execution_count": 53,
   "id": "72dda589",
   "metadata": {},
   "outputs": [
    {
     "data": {
      "text/plain": [
       "count                             2049\n",
       "mean     2018-11-24 10:45:31.039531264\n",
       "min                2018-09-29 13:52:00\n",
       "25%                2018-11-08 15:06:00\n",
       "50%                2018-11-27 09:46:00\n",
       "75%                2018-12-13 09:05:00\n",
       "max                2018-12-31 22:46:00\n",
       "Name: start_time, dtype: object"
      ]
     },
     "execution_count": 53,
     "metadata": {},
     "output_type": "execute_result"
    }
   ],
   "source": [
    "df_LA[df_LA[\"user_type\"] == \"Annual Pass\"][\"start_time\"].describe(datetime_is_numeric=True)"
   ]
  },
  {
   "cell_type": "markdown",
   "id": "7b87e5fb",
   "metadata": {},
   "source": [
    "The first time a ride with the Annual Pass took place was on 2018-09-29. This observation is consistent with the information from above that the pricing system changed within 2018. The Annual Pass was probably only introduced within 2018."
   ]
  },
  {
   "cell_type": "markdown",
   "id": "17223450",
   "metadata": {},
   "source": [
    "### Quantity of bought passes"
   ]
  },
  {
   "cell_type": "markdown",
   "id": "513f6de0",
   "metadata": {},
   "source": [
    "The data does not include a User_ID or anything else that would allow us to deduce the number of passes sold. There was also no information on the Internet about how many passes were sold in 2018. <br>\n",
    "We therefore have to leave out the revenue generated by the sale of passes from our analysis."
   ]
  },
  {
   "cell_type": "markdown",
   "id": "20708e39",
   "metadata": {},
   "source": [
    "### Final determination of a pricing model for the analysis"
   ]
  },
  {
   "cell_type": "markdown",
   "id": "5ca97bf4",
   "metadata": {},
   "source": [
    "From the information above, we determine the following specifications for later analysis."
   ]
  },
  {
   "cell_type": "markdown",
   "id": "da5bab15",
   "metadata": {},
   "source": [
    "**1:** We only pay attention to the fares that are payed by time, not the pre paid passes *(because we unfortunately do not have any user data)* <br>\n",
    "**2:** We use for all user_types for which it is possible the prices that applyed from August 2020 *(because we have no information on the prices in the first half of 2018)*<br>\n",
    "**2.1:** Because we only look at the fares that are paid by time (compare 1. specification) we don't have to set a prepaid price for the Fix Pass. The faires after 30 minutes we declare as 1.75 <br>\n",
    "\n",
    "*(This means that in the analysis for all user_types except \"walk-up\" we calculate 1.75 for all started 30 minutes after the first 30 minutes and for \"walk-up\" we calculate 1.75 for all started 30 minutes.)* <br>\n",
    "\n",
    "\n",
    "\n",
    "**3:** The price of a ride is credited to the hour in which the ride ends."
   ]
  },
  {
   "cell_type": "markdown",
   "id": "c835e69a",
   "metadata": {},
   "source": [
    "## Calculation of revenues"
   ]
  },
  {
   "cell_type": "code",
   "execution_count": 85,
   "id": "4000016b",
   "metadata": {
    "scrolled": true
   },
   "outputs": [
    {
     "data": {
      "text/html": [
       "<div>\n",
       "<style scoped>\n",
       "    .dataframe tbody tr th:only-of-type {\n",
       "        vertical-align: middle;\n",
       "    }\n",
       "\n",
       "    .dataframe tbody tr th {\n",
       "        vertical-align: top;\n",
       "    }\n",
       "\n",
       "    .dataframe thead th {\n",
       "        text-align: right;\n",
       "    }\n",
       "</style>\n",
       "<table border=\"1\" class=\"dataframe\">\n",
       "  <thead>\n",
       "    <tr style=\"text-align: right;\">\n",
       "      <th></th>\n",
       "      <th>user_type</th>\n",
       "      <th>trip_duration_in_hours</th>\n",
       "      <th>revenue</th>\n",
       "    </tr>\n",
       "  </thead>\n",
       "  <tbody>\n",
       "    <tr>\n",
       "      <th>0</th>\n",
       "      <td>Walk-up</td>\n",
       "      <td>0.350000</td>\n",
       "      <td>1.75</td>\n",
       "    </tr>\n",
       "    <tr>\n",
       "      <th>1</th>\n",
       "      <td>Walk-up</td>\n",
       "      <td>0.333333</td>\n",
       "      <td>1.75</td>\n",
       "    </tr>\n",
       "    <tr>\n",
       "      <th>2</th>\n",
       "      <td>Walk-up</td>\n",
       "      <td>0.316667</td>\n",
       "      <td>1.75</td>\n",
       "    </tr>\n",
       "    <tr>\n",
       "      <th>3</th>\n",
       "      <td>Monthly Pass</td>\n",
       "      <td>0.366667</td>\n",
       "      <td>0.00</td>\n",
       "    </tr>\n",
       "    <tr>\n",
       "      <th>4</th>\n",
       "      <td>Monthly Pass</td>\n",
       "      <td>0.750000</td>\n",
       "      <td>1.75</td>\n",
       "    </tr>\n",
       "    <tr>\n",
       "      <th>5</th>\n",
       "      <td>Monthly Pass</td>\n",
       "      <td>0.100000</td>\n",
       "      <td>0.00</td>\n",
       "    </tr>\n",
       "    <tr>\n",
       "      <th>6</th>\n",
       "      <td>Walk-up</td>\n",
       "      <td>0.200000</td>\n",
       "      <td>1.75</td>\n",
       "    </tr>\n",
       "    <tr>\n",
       "      <th>7</th>\n",
       "      <td>Walk-up</td>\n",
       "      <td>0.216667</td>\n",
       "      <td>1.75</td>\n",
       "    </tr>\n",
       "    <tr>\n",
       "      <th>8</th>\n",
       "      <td>Walk-up</td>\n",
       "      <td>0.133333</td>\n",
       "      <td>1.75</td>\n",
       "    </tr>\n",
       "    <tr>\n",
       "      <th>9</th>\n",
       "      <td>Monthly Pass</td>\n",
       "      <td>1.966667</td>\n",
       "      <td>5.25</td>\n",
       "    </tr>\n",
       "  </tbody>\n",
       "</table>\n",
       "</div>"
      ],
      "text/plain": [
       "      user_type  trip_duration_in_hours  revenue\n",
       "0       Walk-up                0.350000     1.75\n",
       "1       Walk-up                0.333333     1.75\n",
       "2       Walk-up                0.316667     1.75\n",
       "3  Monthly Pass                0.366667     0.00\n",
       "4  Monthly Pass                0.750000     1.75\n",
       "5  Monthly Pass                0.100000     0.00\n",
       "6       Walk-up                0.200000     1.75\n",
       "7       Walk-up                0.216667     1.75\n",
       "8       Walk-up                0.133333     1.75\n",
       "9  Monthly Pass                1.966667     5.25"
      ]
     },
     "execution_count": 85,
     "metadata": {},
     "output_type": "execute_result"
    }
   ],
   "source": [
    "df_rev = df_LA.copy()\n",
    "\n",
    "\n",
    "#df_rev.loc[df_rev[\"user_type\"] == \"Walk-up\", \"revenue\"] = round(df_LA[\"trip_duration_in_hours\"]*2 , 0)*1.75\n",
    "#df_rev.loc[df_rev[\"user_type\"] != \"Walk-up\", \"revenue\"] = round(df_LA[\"trip_duration_in_hours\"]*2 -1, 0)*1.75\n",
    "\n",
    "df_rev.loc[df_rev[\"user_type\"] == \"Walk-up\", \"revenue\"] = np.ceil(df_LA[\"trip_duration_in_hours\"]*2) *1.75\n",
    "df_rev.loc[df_rev[\"user_type\"] != \"Walk-up\", \"revenue\"] = np.ceil(df_LA[\"trip_duration_in_hours\"]*2) *1.75 -1.75\n",
    "\n",
    "df_rev[[\"user_type\", \"trip_duration_in_hours\", \"revenue\"]].head(10)"
   ]
  },
  {
   "cell_type": "markdown",
   "id": "253f4c5c",
   "metadata": {},
   "source": [
    "# Später rüber für Explorative benutzen oder so anders einpflegen"
   ]
  },
  {
   "cell_type": "markdown",
   "id": "c408652b",
   "metadata": {},
   "source": [
    "Mean of trip duration for different user_types"
   ]
  },
  {
   "cell_type": "code",
   "execution_count": 18,
   "id": "784b1fab",
   "metadata": {
    "scrolled": true
   },
   "outputs": [
    {
     "data": {
      "text/plain": [
       "user_type\n",
       "Annual Pass     0.177379\n",
       "Flex Pass       0.229901\n",
       "Monthly Pass    0.209221\n",
       "One Day Pass    0.896419\n",
       "Walk-up         0.703875\n",
       "Name: trip_duration_in_hours, dtype: float64"
      ]
     },
     "execution_count": 18,
     "metadata": {},
     "output_type": "execute_result"
    }
   ],
   "source": [
    "df_LA.groupby(\"user_type\").mean()[\"trip_duration_in_hours\"]"
   ]
  }
 ],
 "metadata": {
  "kernelspec": {
   "display_name": "Python 3",
   "language": "python",
   "name": "python3"
  },
  "language_info": {
   "codemirror_mode": {
    "name": "ipython",
    "version": 3
   },
   "file_extension": ".py",
   "mimetype": "text/x-python",
   "name": "python",
   "nbconvert_exporter": "python",
   "pygments_lexer": "ipython3",
   "version": "3.8.8"
  }
 },
 "nbformat": 4,
 "nbformat_minor": 5
}
